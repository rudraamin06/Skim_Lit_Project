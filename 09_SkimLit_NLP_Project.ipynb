{
  "nbformat": 4,
  "nbformat_minor": 0,
  "metadata": {
    "colab": {
      "provenance": []
    },
    "kernelspec": {
      "name": "python3",
      "display_name": "Python 3"
    },
    "language_info": {
      "name": "python"
    },
    "accelerator": "GPU",
    "gpuClass": "standard"
  },
  "cells": [
    {
      "cell_type": "code",
      "execution_count": null,
      "metadata": {
        "colab": {
          "base_uri": "https://localhost:8080/"
        },
        "id": "n8RoIm4YwPAV",
        "outputId": "a639f24a-0e05-446e-a286-10abdc4d20db"
      },
      "outputs": [
        {
          "output_type": "stream",
          "name": "stdout",
          "text": [
            "Sun Apr 23 19:01:15 2023       \n",
            "+-----------------------------------------------------------------------------+\n",
            "| NVIDIA-SMI 525.85.12    Driver Version: 525.85.12    CUDA Version: 12.0     |\n",
            "|-------------------------------+----------------------+----------------------+\n",
            "| GPU  Name        Persistence-M| Bus-Id        Disp.A | Volatile Uncorr. ECC |\n",
            "| Fan  Temp  Perf  Pwr:Usage/Cap|         Memory-Usage | GPU-Util  Compute M. |\n",
            "|                               |                      |               MIG M. |\n",
            "|===============================+======================+======================|\n",
            "|   0  Tesla T4            Off  | 00000000:00:04.0 Off |                    0 |\n",
            "| N/A   67C    P8    11W /  70W |      0MiB / 15360MiB |      0%      Default |\n",
            "|                               |                      |                  N/A |\n",
            "+-------------------------------+----------------------+----------------------+\n",
            "                                                                               \n",
            "+-----------------------------------------------------------------------------+\n",
            "| Processes:                                                                  |\n",
            "|  GPU   GI   CI        PID   Type   Process name                  GPU Memory |\n",
            "|        ID   ID                                                   Usage      |\n",
            "|=============================================================================|\n",
            "|  No running processes found                                                 |\n",
            "+-----------------------------------------------------------------------------+\n"
          ]
        }
      ],
      "source": [
        "!nvidia-smi\n"
      ]
    },
    {
      "cell_type": "code",
      "source": [
        "!git clone https://github.com/Franck-Dernoncourt/pubmed-rct.git\n",
        "!ls pubmed-rct"
      ],
      "metadata": {
        "colab": {
          "base_uri": "https://localhost:8080/"
        },
        "id": "-8dPynNwwrUs",
        "outputId": "e6844f46-0bed-473b-d966-27edc0e1edbd"
      },
      "execution_count": null,
      "outputs": [
        {
          "output_type": "stream",
          "name": "stdout",
          "text": [
            "Cloning into 'pubmed-rct'...\n",
            "remote: Enumerating objects: 33, done.\u001b[K\n",
            "remote: Counting objects: 100% (8/8), done.\u001b[K\n",
            "remote: Compressing objects: 100% (3/3), done.\u001b[K\n",
            "remote: Total 33 (delta 5), reused 5 (delta 5), pack-reused 25\u001b[K\n",
            "Unpacking objects: 100% (33/33), 177.08 MiB | 9.14 MiB/s, done.\n",
            "Updating files: 100% (13/13), done.\n",
            "PubMed_200k_RCT\n",
            "PubMed_200k_RCT_numbers_replaced_with_at_sign\n",
            "PubMed_20k_RCT\n",
            "PubMed_20k_RCT_numbers_replaced_with_at_sign\n",
            "README.md\n"
          ]
        }
      ]
    },
    {
      "cell_type": "code",
      "source": [
        "!ls pubmed-rct/PubMed_20k_RCT_numbers_replaced_with_at_sign/"
      ],
      "metadata": {
        "colab": {
          "base_uri": "https://localhost:8080/"
        },
        "id": "baT75OXTxVyQ",
        "outputId": "4725474d-066e-4401-ad0a-314f6bcb8628"
      },
      "execution_count": null,
      "outputs": [
        {
          "output_type": "stream",
          "name": "stdout",
          "text": [
            "dev.txt  test.txt  train.txt\n"
          ]
        }
      ]
    },
    {
      "cell_type": "code",
      "source": [
        "data_dir = \"/content/pubmed-rct/PubMed_20k_RCT_numbers_replaced_with_at_sign/\"\n"
      ],
      "metadata": {
        "id": "XVccf7k7x6eq"
      },
      "execution_count": null,
      "outputs": []
    },
    {
      "cell_type": "code",
      "source": [
        "import os\n",
        "filename = [data_dir+filename for filename in os.listdir(data_dir)]\n",
        "filename"
      ],
      "metadata": {
        "colab": {
          "base_uri": "https://localhost:8080/"
        },
        "id": "GaeAFSj7zVCd",
        "outputId": "66d513a2-7d61-4da7-f94c-94f99bab8bbd"
      },
      "execution_count": null,
      "outputs": [
        {
          "output_type": "execute_result",
          "data": {
            "text/plain": [
              "['/content/pubmed-rct/PubMed_20k_RCT_numbers_replaced_with_at_sign/dev.txt',\n",
              " '/content/pubmed-rct/PubMed_20k_RCT_numbers_replaced_with_at_sign/train.txt',\n",
              " '/content/pubmed-rct/PubMed_20k_RCT_numbers_replaced_with_at_sign/test.txt']"
            ]
          },
          "metadata": {},
          "execution_count": 5
        }
      ]
    },
    {
      "cell_type": "code",
      "source": [
        "def get_lines(filename):\n",
        "  with open(filename, \"r\") as f:\n",
        "    return f.readlines()"
      ],
      "metadata": {
        "id": "UYIRgBvAziHU"
      },
      "execution_count": null,
      "outputs": []
    },
    {
      "cell_type": "code",
      "source": [
        "train_lines = get_lines(data_dir+\"train.txt\")\n",
        "train_lines[:20]"
      ],
      "metadata": {
        "colab": {
          "base_uri": "https://localhost:8080/"
        },
        "id": "gzWqpLim1MJ6",
        "outputId": "dcfbbfaf-a215-46a3-bd4d-e52b24646c6d"
      },
      "execution_count": null,
      "outputs": [
        {
          "output_type": "execute_result",
          "data": {
            "text/plain": [
              "['###24293578\\n',\n",
              " 'OBJECTIVE\\tTo investigate the efficacy of @ weeks of daily low-dose oral prednisolone in improving pain , mobility , and systemic low-grade inflammation in the short term and whether the effect would be sustained at @ weeks in older adults with moderate to severe knee osteoarthritis ( OA ) .\\n',\n",
              " 'METHODS\\tA total of @ patients with primary knee OA were randomized @:@ ; @ received @ mg/day of prednisolone and @ received placebo for @ weeks .\\n',\n",
              " 'METHODS\\tOutcome measures included pain reduction and improvement in function scores and systemic inflammation markers .\\n',\n",
              " 'METHODS\\tPain was assessed using the visual analog pain scale ( @-@ mm ) .\\n',\n",
              " 'METHODS\\tSecondary outcome measures included the Western Ontario and McMaster Universities Osteoarthritis Index scores , patient global assessment ( PGA ) of the severity of knee OA , and @-min walk distance ( @MWD ) .\\n',\n",
              " 'METHODS\\tSerum levels of interleukin @ ( IL-@ ) , IL-@ , tumor necrosis factor ( TNF ) - , and high-sensitivity C-reactive protein ( hsCRP ) were measured .\\n',\n",
              " 'RESULTS\\tThere was a clinically relevant reduction in the intervention group compared to the placebo group for knee pain , physical function , PGA , and @MWD at @ weeks .\\n',\n",
              " 'RESULTS\\tThe mean difference between treatment arms ( @ % CI ) was @ ( @-@ @ ) , p < @ ; @ ( @-@ @ ) , p < @ ; @ ( @-@ @ ) , p < @ ; and @ ( @-@ @ ) , p < @ , respectively .\\n',\n",
              " 'RESULTS\\tFurther , there was a clinically relevant reduction in the serum levels of IL-@ , IL-@ , TNF - , and hsCRP at @ weeks in the intervention group when compared to the placebo group .\\n',\n",
              " 'RESULTS\\tThese differences remained significant at @ weeks .\\n',\n",
              " 'RESULTS\\tThe Outcome Measures in Rheumatology Clinical Trials-Osteoarthritis Research Society International responder rate was @ % in the intervention group and @ % in the placebo group ( p < @ ) .\\n',\n",
              " 'CONCLUSIONS\\tLow-dose oral prednisolone had both a short-term and a longer sustained effect resulting in less knee pain , better physical function , and attenuation of systemic inflammation in older patients with knee OA ( ClinicalTrials.gov identifier NCT@ ) .\\n',\n",
              " '\\n',\n",
              " '###24854809\\n',\n",
              " 'BACKGROUND\\tEmotional eating is associated with overeating and the development of obesity .\\n',\n",
              " 'BACKGROUND\\tYet , empirical evidence for individual ( trait ) differences in emotional eating and cognitive mechanisms that contribute to eating during sad mood remain equivocal .\\n',\n",
              " 'OBJECTIVE\\tThe aim of this study was to test if attention bias for food moderates the effect of self-reported emotional eating during sad mood ( vs neutral mood ) on actual food intake .\\n',\n",
              " 'OBJECTIVE\\tIt was expected that emotional eating is predictive of elevated attention for food and higher food intake after an experimentally induced sad mood and that attentional maintenance on food predicts food intake during a sad versus a neutral mood .\\n',\n",
              " 'METHODS\\tParticipants ( N = @ ) were randomly assigned to one of the two experimental mood induction conditions ( sad/neutral ) .\\n']"
            ]
          },
          "metadata": {},
          "execution_count": 7
        }
      ]
    },
    {
      "cell_type": "code",
      "source": [
        "def preprocess_text(filename):\n",
        "  input_lines = get_lines(filename)\n",
        "  abstract_lines = \"\"\n",
        "  list_of_dicts = []\n",
        "  for line in input_lines:\n",
        "    if line.startswith(\"###\"):\n",
        "      abstract_lines = \"\"\n",
        "    elif line.isspace():\n",
        "      abstract_line_split = abstract_lines.splitlines()\n",
        "      for abstract_number,abstract_line in enumerate(abstract_line_split):\n",
        "        dicts = {}\n",
        "        target_text_split = abstract_line.split(\"\\t\")\n",
        "        dicts[\"line_number\"] = abstract_number\n",
        "        dicts[\"target\"] = target_text_split[0]\n",
        "        dicts[\"text\"] = target_text_split[1].lower()\n",
        "        dicts[\"Total_lines\"] = len(abstract_line_split) - 1\n",
        "        list_of_dicts.append(dicts)\n",
        "    else:\n",
        "      abstract_lines += line\n",
        "  return list_of_dicts\n"
      ],
      "metadata": {
        "id": "N0ovechz1X5t"
      },
      "execution_count": null,
      "outputs": []
    },
    {
      "cell_type": "code",
      "source": [
        "train_samples = preprocess_text(data_dir+\"train.txt\")\n",
        "val_samples = preprocess_text(data_dir+\"dev.txt\")\n",
        "test_samples = preprocess_text(data_dir+\"test.txt\")\n",
        "train_samples[:20]"
      ],
      "metadata": {
        "colab": {
          "base_uri": "https://localhost:8080/"
        },
        "id": "_pgbwmTnwDSy",
        "outputId": "0969b9a6-1943-4fd2-8608-0b71b5bd34ec"
      },
      "execution_count": null,
      "outputs": [
        {
          "output_type": "execute_result",
          "data": {
            "text/plain": [
              "[{'line_number': 0,\n",
              "  'target': 'OBJECTIVE',\n",
              "  'text': 'to investigate the efficacy of @ weeks of daily low-dose oral prednisolone in improving pain , mobility , and systemic low-grade inflammation in the short term and whether the effect would be sustained at @ weeks in older adults with moderate to severe knee osteoarthritis ( oa ) .',\n",
              "  'Total_lines': 11},\n",
              " {'line_number': 1,\n",
              "  'target': 'METHODS',\n",
              "  'text': 'a total of @ patients with primary knee oa were randomized @:@ ; @ received @ mg/day of prednisolone and @ received placebo for @ weeks .',\n",
              "  'Total_lines': 11},\n",
              " {'line_number': 2,\n",
              "  'target': 'METHODS',\n",
              "  'text': 'outcome measures included pain reduction and improvement in function scores and systemic inflammation markers .',\n",
              "  'Total_lines': 11},\n",
              " {'line_number': 3,\n",
              "  'target': 'METHODS',\n",
              "  'text': 'pain was assessed using the visual analog pain scale ( @-@ mm ) .',\n",
              "  'Total_lines': 11},\n",
              " {'line_number': 4,\n",
              "  'target': 'METHODS',\n",
              "  'text': 'secondary outcome measures included the western ontario and mcmaster universities osteoarthritis index scores , patient global assessment ( pga ) of the severity of knee oa , and @-min walk distance ( @mwd ) .',\n",
              "  'Total_lines': 11},\n",
              " {'line_number': 5,\n",
              "  'target': 'METHODS',\n",
              "  'text': 'serum levels of interleukin @ ( il-@ ) , il-@ , tumor necrosis factor ( tnf ) - , and high-sensitivity c-reactive protein ( hscrp ) were measured .',\n",
              "  'Total_lines': 11},\n",
              " {'line_number': 6,\n",
              "  'target': 'RESULTS',\n",
              "  'text': 'there was a clinically relevant reduction in the intervention group compared to the placebo group for knee pain , physical function , pga , and @mwd at @ weeks .',\n",
              "  'Total_lines': 11},\n",
              " {'line_number': 7,\n",
              "  'target': 'RESULTS',\n",
              "  'text': 'the mean difference between treatment arms ( @ % ci ) was @ ( @-@ @ ) , p < @ ; @ ( @-@ @ ) , p < @ ; @ ( @-@ @ ) , p < @ ; and @ ( @-@ @ ) , p < @ , respectively .',\n",
              "  'Total_lines': 11},\n",
              " {'line_number': 8,\n",
              "  'target': 'RESULTS',\n",
              "  'text': 'further , there was a clinically relevant reduction in the serum levels of il-@ , il-@ , tnf - , and hscrp at @ weeks in the intervention group when compared to the placebo group .',\n",
              "  'Total_lines': 11},\n",
              " {'line_number': 9,\n",
              "  'target': 'RESULTS',\n",
              "  'text': 'these differences remained significant at @ weeks .',\n",
              "  'Total_lines': 11},\n",
              " {'line_number': 10,\n",
              "  'target': 'RESULTS',\n",
              "  'text': 'the outcome measures in rheumatology clinical trials-osteoarthritis research society international responder rate was @ % in the intervention group and @ % in the placebo group ( p < @ ) .',\n",
              "  'Total_lines': 11},\n",
              " {'line_number': 11,\n",
              "  'target': 'CONCLUSIONS',\n",
              "  'text': 'low-dose oral prednisolone had both a short-term and a longer sustained effect resulting in less knee pain , better physical function , and attenuation of systemic inflammation in older patients with knee oa ( clinicaltrials.gov identifier nct@ ) .',\n",
              "  'Total_lines': 11},\n",
              " {'line_number': 0,\n",
              "  'target': 'BACKGROUND',\n",
              "  'text': 'emotional eating is associated with overeating and the development of obesity .',\n",
              "  'Total_lines': 10},\n",
              " {'line_number': 1,\n",
              "  'target': 'BACKGROUND',\n",
              "  'text': 'yet , empirical evidence for individual ( trait ) differences in emotional eating and cognitive mechanisms that contribute to eating during sad mood remain equivocal .',\n",
              "  'Total_lines': 10},\n",
              " {'line_number': 2,\n",
              "  'target': 'OBJECTIVE',\n",
              "  'text': 'the aim of this study was to test if attention bias for food moderates the effect of self-reported emotional eating during sad mood ( vs neutral mood ) on actual food intake .',\n",
              "  'Total_lines': 10},\n",
              " {'line_number': 3,\n",
              "  'target': 'OBJECTIVE',\n",
              "  'text': 'it was expected that emotional eating is predictive of elevated attention for food and higher food intake after an experimentally induced sad mood and that attentional maintenance on food predicts food intake during a sad versus a neutral mood .',\n",
              "  'Total_lines': 10},\n",
              " {'line_number': 4,\n",
              "  'target': 'METHODS',\n",
              "  'text': 'participants ( n = @ ) were randomly assigned to one of the two experimental mood induction conditions ( sad/neutral ) .',\n",
              "  'Total_lines': 10},\n",
              " {'line_number': 5,\n",
              "  'target': 'METHODS',\n",
              "  'text': 'attentional biases for high caloric foods were measured by eye tracking during a visual probe task with pictorial food and neutral stimuli .',\n",
              "  'Total_lines': 10},\n",
              " {'line_number': 6,\n",
              "  'target': 'METHODS',\n",
              "  'text': 'self-reported emotional eating was assessed with the dutch eating behavior questionnaire ( debq ) and ad libitum food intake was tested by a disguised food offer .',\n",
              "  'Total_lines': 10},\n",
              " {'line_number': 7,\n",
              "  'target': 'RESULTS',\n",
              "  'text': 'hierarchical multivariate regression modeling showed that self-reported emotional eating did not account for changes in attention allocation for food or food intake in either condition .',\n",
              "  'Total_lines': 10}]"
            ]
          },
          "metadata": {},
          "execution_count": 9
        }
      ]
    },
    {
      "cell_type": "code",
      "source": [
        "import pandas as pd\n",
        "train_df = pd.DataFrame(train_samples)\n",
        "val_df = pd.DataFrame(val_samples)\n",
        "test_df = pd.DataFrame(test_samples)\n",
        "train_df.head(14)"
      ],
      "metadata": {
        "colab": {
          "base_uri": "https://localhost:8080/",
          "height": 488
        },
        "id": "MQ6XV-F7xX7F",
        "outputId": "dfc21e6e-9eec-476f-9b77-3ef9d337a217"
      },
      "execution_count": null,
      "outputs": [
        {
          "output_type": "execute_result",
          "data": {
            "text/plain": [
              "    line_number       target  \\\n",
              "0             0    OBJECTIVE   \n",
              "1             1      METHODS   \n",
              "2             2      METHODS   \n",
              "3             3      METHODS   \n",
              "4             4      METHODS   \n",
              "5             5      METHODS   \n",
              "6             6      RESULTS   \n",
              "7             7      RESULTS   \n",
              "8             8      RESULTS   \n",
              "9             9      RESULTS   \n",
              "10           10      RESULTS   \n",
              "11           11  CONCLUSIONS   \n",
              "12            0   BACKGROUND   \n",
              "13            1   BACKGROUND   \n",
              "\n",
              "                                                 text  Total_lines  \n",
              "0   to investigate the efficacy of @ weeks of dail...           11  \n",
              "1   a total of @ patients with primary knee oa wer...           11  \n",
              "2   outcome measures included pain reduction and i...           11  \n",
              "3   pain was assessed using the visual analog pain...           11  \n",
              "4   secondary outcome measures included the wester...           11  \n",
              "5   serum levels of interleukin @ ( il-@ ) , il-@ ...           11  \n",
              "6   there was a clinically relevant reduction in t...           11  \n",
              "7   the mean difference between treatment arms ( @...           11  \n",
              "8   further , there was a clinically relevant redu...           11  \n",
              "9   these differences remained significant at @ we...           11  \n",
              "10  the outcome measures in rheumatology clinical ...           11  \n",
              "11  low-dose oral prednisolone had both a short-te...           11  \n",
              "12  emotional eating is associated with overeating...           10  \n",
              "13  yet , empirical evidence for individual ( trai...           10  "
            ],
            "text/html": [
              "\n",
              "  <div id=\"df-a2e0e43e-aaa8-4533-b05b-eb9e7cd0dc71\">\n",
              "    <div class=\"colab-df-container\">\n",
              "      <div>\n",
              "<style scoped>\n",
              "    .dataframe tbody tr th:only-of-type {\n",
              "        vertical-align: middle;\n",
              "    }\n",
              "\n",
              "    .dataframe tbody tr th {\n",
              "        vertical-align: top;\n",
              "    }\n",
              "\n",
              "    .dataframe thead th {\n",
              "        text-align: right;\n",
              "    }\n",
              "</style>\n",
              "<table border=\"1\" class=\"dataframe\">\n",
              "  <thead>\n",
              "    <tr style=\"text-align: right;\">\n",
              "      <th></th>\n",
              "      <th>line_number</th>\n",
              "      <th>target</th>\n",
              "      <th>text</th>\n",
              "      <th>Total_lines</th>\n",
              "    </tr>\n",
              "  </thead>\n",
              "  <tbody>\n",
              "    <tr>\n",
              "      <th>0</th>\n",
              "      <td>0</td>\n",
              "      <td>OBJECTIVE</td>\n",
              "      <td>to investigate the efficacy of @ weeks of dail...</td>\n",
              "      <td>11</td>\n",
              "    </tr>\n",
              "    <tr>\n",
              "      <th>1</th>\n",
              "      <td>1</td>\n",
              "      <td>METHODS</td>\n",
              "      <td>a total of @ patients with primary knee oa wer...</td>\n",
              "      <td>11</td>\n",
              "    </tr>\n",
              "    <tr>\n",
              "      <th>2</th>\n",
              "      <td>2</td>\n",
              "      <td>METHODS</td>\n",
              "      <td>outcome measures included pain reduction and i...</td>\n",
              "      <td>11</td>\n",
              "    </tr>\n",
              "    <tr>\n",
              "      <th>3</th>\n",
              "      <td>3</td>\n",
              "      <td>METHODS</td>\n",
              "      <td>pain was assessed using the visual analog pain...</td>\n",
              "      <td>11</td>\n",
              "    </tr>\n",
              "    <tr>\n",
              "      <th>4</th>\n",
              "      <td>4</td>\n",
              "      <td>METHODS</td>\n",
              "      <td>secondary outcome measures included the wester...</td>\n",
              "      <td>11</td>\n",
              "    </tr>\n",
              "    <tr>\n",
              "      <th>5</th>\n",
              "      <td>5</td>\n",
              "      <td>METHODS</td>\n",
              "      <td>serum levels of interleukin @ ( il-@ ) , il-@ ...</td>\n",
              "      <td>11</td>\n",
              "    </tr>\n",
              "    <tr>\n",
              "      <th>6</th>\n",
              "      <td>6</td>\n",
              "      <td>RESULTS</td>\n",
              "      <td>there was a clinically relevant reduction in t...</td>\n",
              "      <td>11</td>\n",
              "    </tr>\n",
              "    <tr>\n",
              "      <th>7</th>\n",
              "      <td>7</td>\n",
              "      <td>RESULTS</td>\n",
              "      <td>the mean difference between treatment arms ( @...</td>\n",
              "      <td>11</td>\n",
              "    </tr>\n",
              "    <tr>\n",
              "      <th>8</th>\n",
              "      <td>8</td>\n",
              "      <td>RESULTS</td>\n",
              "      <td>further , there was a clinically relevant redu...</td>\n",
              "      <td>11</td>\n",
              "    </tr>\n",
              "    <tr>\n",
              "      <th>9</th>\n",
              "      <td>9</td>\n",
              "      <td>RESULTS</td>\n",
              "      <td>these differences remained significant at @ we...</td>\n",
              "      <td>11</td>\n",
              "    </tr>\n",
              "    <tr>\n",
              "      <th>10</th>\n",
              "      <td>10</td>\n",
              "      <td>RESULTS</td>\n",
              "      <td>the outcome measures in rheumatology clinical ...</td>\n",
              "      <td>11</td>\n",
              "    </tr>\n",
              "    <tr>\n",
              "      <th>11</th>\n",
              "      <td>11</td>\n",
              "      <td>CONCLUSIONS</td>\n",
              "      <td>low-dose oral prednisolone had both a short-te...</td>\n",
              "      <td>11</td>\n",
              "    </tr>\n",
              "    <tr>\n",
              "      <th>12</th>\n",
              "      <td>0</td>\n",
              "      <td>BACKGROUND</td>\n",
              "      <td>emotional eating is associated with overeating...</td>\n",
              "      <td>10</td>\n",
              "    </tr>\n",
              "    <tr>\n",
              "      <th>13</th>\n",
              "      <td>1</td>\n",
              "      <td>BACKGROUND</td>\n",
              "      <td>yet , empirical evidence for individual ( trai...</td>\n",
              "      <td>10</td>\n",
              "    </tr>\n",
              "  </tbody>\n",
              "</table>\n",
              "</div>\n",
              "      <button class=\"colab-df-convert\" onclick=\"convertToInteractive('df-a2e0e43e-aaa8-4533-b05b-eb9e7cd0dc71')\"\n",
              "              title=\"Convert this dataframe to an interactive table.\"\n",
              "              style=\"display:none;\">\n",
              "        \n",
              "  <svg xmlns=\"http://www.w3.org/2000/svg\" height=\"24px\"viewBox=\"0 0 24 24\"\n",
              "       width=\"24px\">\n",
              "    <path d=\"M0 0h24v24H0V0z\" fill=\"none\"/>\n",
              "    <path d=\"M18.56 5.44l.94 2.06.94-2.06 2.06-.94-2.06-.94-.94-2.06-.94 2.06-2.06.94zm-11 1L8.5 8.5l.94-2.06 2.06-.94-2.06-.94L8.5 2.5l-.94 2.06-2.06.94zm10 10l.94 2.06.94-2.06 2.06-.94-2.06-.94-.94-2.06-.94 2.06-2.06.94z\"/><path d=\"M17.41 7.96l-1.37-1.37c-.4-.4-.92-.59-1.43-.59-.52 0-1.04.2-1.43.59L10.3 9.45l-7.72 7.72c-.78.78-.78 2.05 0 2.83L4 21.41c.39.39.9.59 1.41.59.51 0 1.02-.2 1.41-.59l7.78-7.78 2.81-2.81c.8-.78.8-2.07 0-2.86zM5.41 20L4 18.59l7.72-7.72 1.47 1.35L5.41 20z\"/>\n",
              "  </svg>\n",
              "      </button>\n",
              "      \n",
              "  <style>\n",
              "    .colab-df-container {\n",
              "      display:flex;\n",
              "      flex-wrap:wrap;\n",
              "      gap: 12px;\n",
              "    }\n",
              "\n",
              "    .colab-df-convert {\n",
              "      background-color: #E8F0FE;\n",
              "      border: none;\n",
              "      border-radius: 50%;\n",
              "      cursor: pointer;\n",
              "      display: none;\n",
              "      fill: #1967D2;\n",
              "      height: 32px;\n",
              "      padding: 0 0 0 0;\n",
              "      width: 32px;\n",
              "    }\n",
              "\n",
              "    .colab-df-convert:hover {\n",
              "      background-color: #E2EBFA;\n",
              "      box-shadow: 0px 1px 2px rgba(60, 64, 67, 0.3), 0px 1px 3px 1px rgba(60, 64, 67, 0.15);\n",
              "      fill: #174EA6;\n",
              "    }\n",
              "\n",
              "    [theme=dark] .colab-df-convert {\n",
              "      background-color: #3B4455;\n",
              "      fill: #D2E3FC;\n",
              "    }\n",
              "\n",
              "    [theme=dark] .colab-df-convert:hover {\n",
              "      background-color: #434B5C;\n",
              "      box-shadow: 0px 1px 3px 1px rgba(0, 0, 0, 0.15);\n",
              "      filter: drop-shadow(0px 1px 2px rgba(0, 0, 0, 0.3));\n",
              "      fill: #FFFFFF;\n",
              "    }\n",
              "  </style>\n",
              "\n",
              "      <script>\n",
              "        const buttonEl =\n",
              "          document.querySelector('#df-a2e0e43e-aaa8-4533-b05b-eb9e7cd0dc71 button.colab-df-convert');\n",
              "        buttonEl.style.display =\n",
              "          google.colab.kernel.accessAllowed ? 'block' : 'none';\n",
              "\n",
              "        async function convertToInteractive(key) {\n",
              "          const element = document.querySelector('#df-a2e0e43e-aaa8-4533-b05b-eb9e7cd0dc71');\n",
              "          const dataTable =\n",
              "            await google.colab.kernel.invokeFunction('convertToInteractive',\n",
              "                                                     [key], {});\n",
              "          if (!dataTable) return;\n",
              "\n",
              "          const docLinkHtml = 'Like what you see? Visit the ' +\n",
              "            '<a target=\"_blank\" href=https://colab.research.google.com/notebooks/data_table.ipynb>data table notebook</a>'\n",
              "            + ' to learn more about interactive tables.';\n",
              "          element.innerHTML = '';\n",
              "          dataTable['output_type'] = 'display_data';\n",
              "          await google.colab.output.renderOutput(dataTable, element);\n",
              "          const docLink = document.createElement('div');\n",
              "          docLink.innerHTML = docLinkHtml;\n",
              "          element.appendChild(docLink);\n",
              "        }\n",
              "      </script>\n",
              "    </div>\n",
              "  </div>\n",
              "  "
            ]
          },
          "metadata": {},
          "execution_count": 10
        }
      ]
    },
    {
      "cell_type": "code",
      "source": [
        "train_df.target.value_counts()"
      ],
      "metadata": {
        "colab": {
          "base_uri": "https://localhost:8080/"
        },
        "id": "3R4na62bz3pt",
        "outputId": "316b6e61-3516-4a9a-cf5e-ecd9bba32f35"
      },
      "execution_count": null,
      "outputs": [
        {
          "output_type": "execute_result",
          "data": {
            "text/plain": [
              "METHODS        59353\n",
              "RESULTS        57953\n",
              "CONCLUSIONS    27168\n",
              "BACKGROUND     21727\n",
              "OBJECTIVE      13839\n",
              "Name: target, dtype: int64"
            ]
          },
          "metadata": {},
          "execution_count": 11
        }
      ]
    },
    {
      "cell_type": "code",
      "source": [
        "train_df.Total_lines.plot.hist()"
      ],
      "metadata": {
        "colab": {
          "base_uri": "https://localhost:8080/",
          "height": 448
        },
        "id": "kLPN6N540Lgl",
        "outputId": "21fc89e6-1bba-4ad1-927d-0f3b4b297d2d"
      },
      "execution_count": null,
      "outputs": [
        {
          "output_type": "execute_result",
          "data": {
            "text/plain": [
              "<Axes: ylabel='Frequency'>"
            ]
          },
          "metadata": {},
          "execution_count": 12
        },
        {
          "output_type": "display_data",
          "data": {
            "text/plain": [
              "<Figure size 640x480 with 1 Axes>"
            ],
            "image/png": "[encoded data removed]"
          },
          "metadata": {}
        }
      ]
    },
    {
      "cell_type": "code",
      "source": [
        "train_sentences = train_df[\"text\"].tolist()\n",
        "val_sentences = val_df[\"text\"].tolist()\n",
        "test_sentences = test_df[\"text\"].tolist()\n",
        "len(train_sentences),len(val_sentences),len(test_sentences)"
      ],
      "metadata": {
        "colab": {
          "base_uri": "https://localhost:8080/"
        },
        "id": "2qOvTCgC0Ttg",
        "outputId": "0e28d28d-e7a7-41ba-a762-7a15f7f13008"
      },
      "execution_count": null,
      "outputs": [
        {
          "output_type": "execute_result",
          "data": {
            "text/plain": [
              "(180040, 30212, 30135)"
            ]
          },
          "metadata": {},
          "execution_count": 13
        }
      ]
    },
    {
      "cell_type": "code",
      "source": [
        "from sklearn.preprocessing import OneHotEncoder\n",
        "one_hot_encoder = OneHotEncoder(sparse=False)\n",
        "train_labels_one_hot = one_hot_encoder.fit_transform(train_df[\"target\"].to_numpy().reshape(-1,1))\n",
        "val_labels_one_hot = one_hot_encoder.transform(val_df[\"target\"].to_numpy().reshape(-1,1))\n",
        "test_labels_one_hot = one_hot_encoder.transform(test_df[\"target\"].to_numpy().reshape(-1,1))\n",
        "\n",
        "train_labels_one_hot"
      ],
      "metadata": {
        "colab": {
          "base_uri": "https://localhost:8080/"
        },
        "id": "HsrhK38Z0wmf",
        "outputId": "2a871381-9f58-4693-df42-7a489eb96a5b"
      },
      "execution_count": null,
      "outputs": [
        {
          "output_type": "stream",
          "name": "stderr",
          "text": [
            "/usr/local/lib/python3.9/dist-packages/sklearn/preprocessing/_encoders.py:868: FutureWarning: `sparse` was renamed to `sparse_output` in version 1.2 and will be removed in 1.4. `sparse_output` is ignored unless you leave `sparse` to its default value.\n",
            "  warnings.warn(\n"
          ]
        },
        {
          "output_type": "execute_result",
          "data": {
            "text/plain": [
              "array([[0., 0., 0., 1., 0.],\n",
              "       [0., 0., 1., 0., 0.],\n",
              "       [0., 0., 1., 0., 0.],\n",
              "       ...,\n",
              "       [0., 0., 0., 0., 1.],\n",
              "       [0., 1., 0., 0., 0.],\n",
              "       [0., 1., 0., 0., 0.]])"
            ]
          },
          "metadata": {},
          "execution_count": 14
        }
      ]
    },
    {
      "cell_type": "code",
      "source": [
        "from sklearn.preprocessing import LabelEncoder\n",
        "label_encoder = LabelEncoder()\n",
        "train_label_encoded = label_encoder.fit_transform(train_df[\"target\"].to_numpy().reshape(-1,1))\n",
        "val_label_encoded = label_encoder.transform(val_df[\"target\"].to_numpy().reshape(-1,1))\n",
        "test_label_encoded = label_encoder.transform(test_df[\"target\"].to_numpy().reshape(-1,1))\n",
        "train_label_encoded"
      ],
      "metadata": {
        "colab": {
          "base_uri": "https://localhost:8080/"
        },
        "id": "X8j7j75-6zbF",
        "outputId": "2ec3001e-d9d8-461e-cec9-08eedf8189c9"
      },
      "execution_count": null,
      "outputs": [
        {
          "output_type": "stream",
          "name": "stderr",
          "text": [
            "/usr/local/lib/python3.9/dist-packages/sklearn/preprocessing/_label.py:116: DataConversionWarning: A column-vector y was passed when a 1d array was expected. Please change the shape of y to (n_samples, ), for example using ravel().\n",
            "  y = column_or_1d(y, warn=True)\n",
            "/usr/local/lib/python3.9/dist-packages/sklearn/preprocessing/_label.py:134: DataConversionWarning: A column-vector y was passed when a 1d array was expected. Please change the shape of y to (n_samples, ), for example using ravel().\n",
            "  y = column_or_1d(y, dtype=self.classes_.dtype, warn=True)\n",
            "/usr/local/lib/python3.9/dist-packages/sklearn/preprocessing/_label.py:134: DataConversionWarning: A column-vector y was passed when a 1d array was expected. Please change the shape of y to (n_samples, ), for example using ravel().\n",
            "  y = column_or_1d(y, dtype=self.classes_.dtype, warn=True)\n"
          ]
        },
        {
          "output_type": "execute_result",
          "data": {
            "text/plain": [
              "array([3, 2, 2, ..., 4, 1, 1])"
            ]
          },
          "metadata": {},
          "execution_count": 15
        }
      ]
    },
    {
      "cell_type": "markdown",
      "source": [
        "**MODEL-0 BASELINE**"
      ],
      "metadata": {
        "id": "M89_Chy17dCv"
      }
    },
    {
      "cell_type": "code",
      "source": [
        "from sklearn.feature_extraction.text import TfidfVectorizer\n",
        "from sklearn.naive_bayes import MultinomialNB\n",
        "from sklearn.pipeline import Pipeline\n",
        "\n",
        "model_0 = Pipeline([\n",
        "    (\"tf-idf\",TfidfVectorizer()),\n",
        "    (\"clf\",MultinomialNB())\n",
        "])\n",
        "\n",
        "model_0.fit(X = train_sentences,\n",
        "            y = train_label_encoded)"
      ],
      "metadata": {
        "colab": {
          "base_uri": "https://localhost:8080/",
          "height": 126
        },
        "id": "G8Ar8Hqr7k8u",
        "outputId": "6dceb2e2-2cc1-4224-9edc-9640b35aaff5"
      },
      "execution_count": null,
      "outputs": [
        {
          "output_type": "execute_result",
          "data": {
            "text/plain": [
              "Pipeline(steps=[('tf-idf', TfidfVectorizer()), ('clf', MultinomialNB())])"
            ],
            "text/html": [
              "<style>#sk-container-id-1 {color: black;background-color: white;}#sk-container-id-1 pre{padding: 0;}#sk-container-id-1 div.sk-toggleable {background-color: white;}#sk-container-id-1 label.sk-toggleable__label {cursor: pointer;display: block;width: 100%;margin-bottom: 0;padding: 0.3em;box-sizing: border-box;text-align: center;}#sk-container-id-1 label.sk-toggleable__label-arrow:before {content: \"▸\";float: left;margin-right: 0.25em;color: #696969;}#sk-container-id-1 label.sk-toggleable__label-arrow:hover:before {color: black;}#sk-container-id-1 div.sk-estimator:hover label.sk-toggleable__label-arrow:before {color: black;}#sk-container-id-1 div.sk-toggleable__content {max-height: 0;max-width: 0;overflow: hidden;text-align: left;background-color: #f0f8ff;}#sk-container-id-1 div.sk-toggleable__content pre {margin: 0.2em;color: black;border-radius: 0.25em;background-color: #f0f8ff;}#sk-container-id-1 input.sk-toggleable__control:checked~div.sk-toggleable__content {max-height: 200px;max-width: 100%;overflow: auto;}#sk-container-id-1 input.sk-toggleable__control:checked~label.sk-toggleable__label-arrow:before {content: \"▾\";}#sk-container-id-1 div.sk-estimator input.sk-toggleable__control:checked~label.sk-toggleable__label {background-color: #d4ebff;}#sk-container-id-1 div.sk-label input.sk-toggleable__control:checked~label.sk-toggleable__label {background-color: #d4ebff;}#sk-container-id-1 input.sk-hidden--visually {border: 0;clip: rect(1px 1px 1px 1px);clip: rect(1px, 1px, 1px, 1px);height: 1px;margin: -1px;overflow: hidden;padding: 0;position: absolute;width: 1px;}#sk-container-id-1 div.sk-estimator {font-family: monospace;background-color: #f0f8ff;border: 1px dotted black;border-radius: 0.25em;box-sizing: border-box;margin-bottom: 0.5em;}#sk-container-id-1 div.sk-estimator:hover {background-color: #d4ebff;}#sk-container-id-1 div.sk-parallel-item::after {content: \"\";width: 100%;border-bottom: 1px solid gray;flex-grow: 1;}#sk-container-id-1 div.sk-label:hover label.sk-toggleable__label {background-color: #d4ebff;}#sk-container-id-1 div.sk-serial::before {content: \"\";position: absolute;border-left: 1px solid gray;box-sizing: border-box;top: 0;bottom: 0;left: 50%;z-index: 0;}#sk-container-id-1 div.sk-serial {display: flex;flex-direction: column;align-items: center;background-color: white;padding-right: 0.2em;padding-left: 0.2em;position: relative;}#sk-container-id-1 div.sk-item {position: relative;z-index: 1;}#sk-container-id-1 div.sk-parallel {display: flex;align-items: stretch;justify-content: center;background-color: white;position: relative;}#sk-container-id-1 div.sk-item::before, #sk-container-id-1 div.sk-parallel-item::before {content: \"\";position: absolute;border-left: 1px solid gray;box-sizing: border-box;top: 0;bottom: 0;left: 50%;z-index: -1;}#sk-container-id-1 div.sk-parallel-item {display: flex;flex-direction: column;z-index: 1;position: relative;background-color: white;}#sk-container-id-1 div.sk-parallel-item:first-child::after {align-self: flex-end;width: 50%;}#sk-container-id-1 div.sk-parallel-item:last-child::after {align-self: flex-start;width: 50%;}#sk-container-id-1 div.sk-parallel-item:only-child::after {width: 0;}#sk-container-id-1 div.sk-dashed-wrapped {border: 1px dashed gray;margin: 0 0.4em 0.5em 0.4em;box-sizing: border-box;padding-bottom: 0.4em;background-color: white;}#sk-container-id-1 div.sk-label label {font-family: monospace;font-weight: bold;display: inline-block;line-height: 1.2em;}#sk-container-id-1 div.sk-label-container {text-align: center;}#sk-container-id-1 div.sk-container {/* jupyter's `normalize.less` sets `[hidden] { display: none; }` but bootstrap.min.css set `[hidden] { display: none !important; }` so we also need the `!important` here to be able to override the default hidden behavior on the sphinx rendered scikit-learn.org. See: https://github.com/scikit-learn/scikit-learn/issues/21755 */display: inline-block !important;position: relative;}#sk-container-id-1 div.sk-text-repr-fallback {display: none;}</style><div id=\"sk-container-id-1\" class=\"sk-top-container\"><div class=\"sk-text-repr-fallback\"><pre>Pipeline(steps=[(&#x27;tf-idf&#x27;, TfidfVectorizer()), (&#x27;clf&#x27;, MultinomialNB())])</pre><b>In a Jupyter environment, please rerun this cell to show the HTML representation or trust the notebook. <br />On GitHub, the HTML representation is unable to render, please try loading this page with nbviewer.org.</b></div><div class=\"sk-container\" hidden><div class=\"sk-item sk-dashed-wrapped\"><div class=\"sk-label-container\"><div class=\"sk-label sk-toggleable\"><input class=\"sk-toggleable__control sk-hidden--visually\" id=\"sk-estimator-id-1\" type=\"checkbox\" ><label for=\"sk-estimator-id-1\" class=\"sk-toggleable__label sk-toggleable__label-arrow\">Pipeline</label><div class=\"sk-toggleable__content\"><pre>Pipeline(steps=[(&#x27;tf-idf&#x27;, TfidfVectorizer()), (&#x27;clf&#x27;, MultinomialNB())])</pre></div></div></div><div class=\"sk-serial\"><div class=\"sk-item\"><div class=\"sk-estimator sk-toggleable\"><input class=\"sk-toggleable__control sk-hidden--visually\" id=\"sk-estimator-id-2\" type=\"checkbox\" ><label for=\"sk-estimator-id-2\" class=\"sk-toggleable__label sk-toggleable__label-arrow\">TfidfVectorizer</label><div class=\"sk-toggleable__content\"><pre>TfidfVectorizer()</pre></div></div></div><div class=\"sk-item\"><div class=\"sk-estimator sk-toggleable\"><input class=\"sk-toggleable__control sk-hidden--visually\" id=\"sk-estimator-id-3\" type=\"checkbox\" ><label for=\"sk-estimator-id-3\" class=\"sk-toggleable__label sk-toggleable__label-arrow\">MultinomialNB</label><div class=\"sk-toggleable__content\"><pre>MultinomialNB()</pre></div></div></div></div></div></div></div>"
            ]
          },
          "metadata": {},
          "execution_count": 16
        }
      ]
    },
    {
      "cell_type": "code",
      "source": [
        "model_0.score(X = val_sentences,\n",
        "              y = val_label_encoded)"
      ],
      "metadata": {
        "colab": {
          "base_uri": "https://localhost:8080/"
        },
        "id": "D89pve6K8D7v",
        "outputId": "fd0bbbee-a83a-4fd3-e887-2855a30eeb57"
      },
      "execution_count": null,
      "outputs": [
        {
          "output_type": "execute_result",
          "data": {
            "text/plain": [
              "0.7218323844829869"
            ]
          },
          "metadata": {},
          "execution_count": 17
        }
      ]
    },
    {
      "cell_type": "code",
      "source": [
        "baseline_preds = model_0.predict(val_sentences)\n",
        "baseline_preds"
      ],
      "metadata": {
        "colab": {
          "base_uri": "https://localhost:8080/"
        },
        "id": "_T6PhIKV8MAU",
        "outputId": "19a1191a-d2b4-4058-d084-7201cdcad203"
      },
      "execution_count": null,
      "outputs": [
        {
          "output_type": "execute_result",
          "data": {
            "text/plain": [
              "array([4, 1, 3, ..., 4, 4, 1])"
            ]
          },
          "metadata": {},
          "execution_count": 18
        }
      ]
    },
    {
      "cell_type": "code",
      "source": [
        "!wget https://raw.githubusercontent.com/riya0920/DeepLearning_TensorFlow/main/helper_functions.py"
      ],
      "metadata": {
        "colab": {
          "base_uri": "https://localhost:8080/"
        },
        "id": "W9I6S5V_8eEi",
        "outputId": "2d92a362-e90f-49e3-d04f-bb215955a2d9"
      },
      "execution_count": null,
      "outputs": [
        {
          "output_type": "stream",
          "name": "stdout",
          "text": [
            "--2023-04-23 19:01:53--  https://raw.githubusercontent.com/riya0920/DeepLearning_TensorFlow/main/helper_functions.py\n",
            "Resolving raw.githubusercontent.com (raw.githubusercontent.com)... 185.199.110.133, 185.199.111.133, 185.199.109.133, ...\n",
            "Connecting to raw.githubusercontent.com (raw.githubusercontent.com)|185.199.110.133|:443... connected.\n",
            "HTTP request sent, awaiting response... 200 OK\n",
            "Length: 11719 (11K) [text/plain]\n",
            "Saving to: ‘helper_functions.py’\n",
            "\n",
            "\rhelper_functions.py   0%[                    ]       0  --.-KB/s               \rhelper_functions.py 100%[===================>]  11.44K  --.-KB/s    in 0s      \n",
            "\n",
            "2023-04-23 19:01:53 (81.1 MB/s) - ‘helper_functions.py’ saved [11719/11719]\n",
            "\n"
          ]
        }
      ]
    },
    {
      "cell_type": "code",
      "source": [
        "from sklearn.metrics import accuracy_score, precision_recall_fscore_support\n",
        "def calc_results(y_true,y_preds):\n",
        "  model_accuracy = accuracy_score(y_true, y_preds) * 100\n",
        "  # Calculate model precision, recall and f1 score using \"weighted\" average\n",
        "  model_precision, model_recall, model_f1, _ = precision_recall_fscore_support(y_true, y_preds, average=\"weighted\")\n",
        "  model_results = {\"accuracy\": model_accuracy,\n",
        "                  \"precision\": model_precision,\n",
        "                  \"recall\": model_recall,\n",
        "                  \"f1\": model_f1}\n",
        "  return model_results\n",
        "\n",
        "\n"
      ],
      "metadata": {
        "id": "dyQZgXaL8nF8"
      },
      "execution_count": null,
      "outputs": []
    },
    {
      "cell_type": "markdown",
      "source": [
        "Preparing our data(text) for deep sequence models!!"
      ],
      "metadata": {
        "id": "aAxVpgho8qcZ"
      }
    },
    {
      "cell_type": "code",
      "source": [
        "import numpy as np\n",
        "import tensorflow as tf\n",
        "from tensorflow.keras import layers"
      ],
      "metadata": {
        "id": "2SXxX54HzzOc"
      },
      "execution_count": null,
      "outputs": []
    },
    {
      "cell_type": "code",
      "source": [
        "from tensorflow.keras.layers.experimental.preprocessing import TextVectorization\n",
        "text_vectorizer = TextVectorization(max_tokens = 64000,\n",
        "                                    output_sequence_length = 55) # 95% of the sentences have 55 words max"
      ],
      "metadata": {
        "id": "hqpM0HTcz_Wo"
      },
      "execution_count": null,
      "outputs": []
    },
    {
      "cell_type": "code",
      "source": [
        "text_vectorizer.adapt(train_sentences)"
      ],
      "metadata": {
        "id": "K4X1QPYjErwD"
      },
      "execution_count": null,
      "outputs": []
    },
    {
      "cell_type": "code",
      "source": [
        "import random\n",
        "random_sentence = random.choice(train_sentences)\n",
        "print(f\"Text: {random_sentence}\\nText vectorization: {text_vectorizer(random_sentence)}\")"
      ],
      "metadata": {
        "colab": {
          "base_uri": "https://localhost:8080/"
        },
        "id": "nwCM62zbEvwL",
        "outputId": "fe892540-f2d7-4e4e-8074-746f302e20ae"
      },
      "execution_count": null,
      "outputs": [
        {
          "output_type": "stream",
          "name": "stdout",
          "text": [
            "Text: one group received additional tuition using a training mannequin .\n",
            "Text vectorization: [   88    13    80   365 43117    59     8   155 10274     0     0     0\n",
            "     0     0     0     0     0     0     0     0     0     0     0     0\n",
            "     0     0     0     0     0     0     0     0     0     0     0     0\n",
            "     0     0     0     0     0     0     0     0     0     0     0     0\n",
            "     0     0     0     0     0     0     0]\n"
          ]
        }
      ]
    },
    {
      "cell_type": "code",
      "source": [
        "rct_20k_vocabulary = text_vectorizer.get_vocabulary()\n",
        "rct_20k_vocabulary[:5],rct_20k_vocabulary[-5:]"
      ],
      "metadata": {
        "colab": {
          "base_uri": "https://localhost:8080/"
        },
        "id": "Fn9ObgPZFlfb",
        "outputId": "dc278262-f5ad-477a-d4f9-506131e8cd1c"
      },
      "execution_count": null,
      "outputs": [
        {
          "output_type": "execute_result",
          "data": {
            "text/plain": [
              "(['', '[UNK]', 'the', 'and', 'of'],\n",
              " ['andbehavior', 'andat', 'andapplication', 'ancovamean', 'ancovaadjusted'])"
            ]
          },
          "metadata": {},
          "execution_count": 25
        }
      ]
    },
    {
      "cell_type": "code",
      "source": [
        "embedding = layers.Embedding(input_dim = len(rct_20k_vocabulary),\n",
        "                             output_dim = 128,\n",
        "                             mask_zero = True)"
      ],
      "metadata": {
        "id": "c5woZRxvGFlG"
      },
      "execution_count": null,
      "outputs": []
    },
    {
      "cell_type": "code",
      "source": [
        "print(f\"Text: {random_sentence}\\nVectorized sentence: {text_vectorizer(random_sentence)}\\nEmbedded sentence: {embedding(text_vectorizer(random_sentence))}\\nLength: {len(random_sentence.split())}\")"
      ],
      "metadata": {
        "colab": {
          "base_uri": "https://localhost:8080/"
        },
        "id": "kFLsXrZpH8zL",
        "outputId": "fccf69ad-dd36-4218-a479-0670306f28a1"
      },
      "execution_count": null,
      "outputs": [
        {
          "output_type": "stream",
          "name": "stdout",
          "text": [
            "Text: one group received additional tuition using a training mannequin .\n",
            "Vectorized sentence: [   88    13    80   365 43117    59     8   155 10274     0     0     0\n",
            "     0     0     0     0     0     0     0     0     0     0     0     0\n",
            "     0     0     0     0     0     0     0     0     0     0     0     0\n",
            "     0     0     0     0     0     0     0     0     0     0     0     0\n",
            "     0     0     0     0     0     0     0]\n",
            "Embedded sentence: [[-0.01733092  0.02615828 -0.03877228 ...  0.01366481  0.01584483\n",
            "  -0.00130222]\n",
            " [ 0.01337722 -0.03594701  0.02560658 ...  0.03701046  0.03135795\n",
            "   0.00823929]\n",
            " [-0.0060894   0.03759834  0.04941158 ...  0.02661148 -0.02251431\n",
            "   0.03768835]\n",
            " ...\n",
            " [-0.04837594 -0.02638235 -0.04100927 ...  0.0017076  -0.00684073\n",
            "  -0.0150365 ]\n",
            " [-0.04837594 -0.02638235 -0.04100927 ...  0.0017076  -0.00684073\n",
            "  -0.0150365 ]\n",
            " [-0.04837594 -0.02638235 -0.04100927 ...  0.0017076  -0.00684073\n",
            "  -0.0150365 ]]\n",
            "Length: 10\n"
          ]
        }
      ]
    },
    {
      "cell_type": "code",
      "source": [
        "train_dataset = tf.data.Dataset.from_tensor_slices((train_sentences,train_labels_one_hot))\n",
        "valid_dataset = tf.data.Dataset.from_tensor_slices((val_sentences,val_labels_one_hot))\n",
        "test_dataset = tf.data.Dataset.from_tensor_slices((test_sentences,test_labels_one_hot))"
      ],
      "metadata": {
        "id": "EvVx_YdJINMa"
      },
      "execution_count": null,
      "outputs": []
    },
    {
      "cell_type": "code",
      "source": [
        "train_dataset = train_dataset.batch(32).prefetch(tf.data.AUTOTUNE)\n",
        "valid_dataset = valid_dataset.batch(32).prefetch(tf.data.AUTOTUNE)\n",
        "test_dataset = test_dataset.batch(32).prefetch(tf.data.AUTOTUNE)"
      ],
      "metadata": {
        "id": "XxLLljLMO8gG"
      },
      "execution_count": null,
      "outputs": []
    },
    {
      "cell_type": "markdown",
      "source": [
        "MODEL:1\n"
      ],
      "metadata": {
        "id": "9T8E1q72P1WA"
      }
    },
    {
      "cell_type": "code",
      "source": [
        "inputs = layers.Input(shape = (1,),dtype=tf.string)\n",
        "x = text_vectorizer(inputs)\n",
        "x = embedding(x)\n",
        "x = layers.Conv1D(filters = 64,\n",
        "                  kernel_size = 5,\n",
        "                  padding = \"valid\",\n",
        "                  activation = \"relu\")(x)\n",
        "x = layers.GlobalMaxPool1D()(x)\n",
        "outputs = layers.Dense(5,activation = \"softmax\")(x)\n",
        "model_1 = tf.keras.Model(inputs,outputs)\n",
        "\n",
        "model_1.compile(loss = \"categorical_crossentropy\",\n",
        "                optimizer = tf.keras.optimizers.Adam(),\n",
        "                metrics = [\"accuracy\"])\n",
        "\n",
        "history_1 = model_1.fit(train_dataset,\n",
        "                        epochs = 5,\n",
        "                        steps_per_epoch = int(0.1*len(train_dataset)),\n",
        "                        validation_data = valid_dataset,\n",
        "                        validation_steps = int(0.1*len(valid_dataset)))"
      ],
      "metadata": {
        "colab": {
          "base_uri": "https://localhost:8080/"
        },
        "id": "fSHDR47wQSlf",
        "outputId": "77d7c0ac-1735-492c-b285-cb1045bbe46d"
      },
      "execution_count": null,
      "outputs": [
        {
          "output_type": "stream",
          "name": "stdout",
          "text": [
            "Epoch 1/5\n",
            "562/562 [==============================] - 45s 62ms/step - loss: 0.8409 - accuracy: 0.6781 - val_loss: 0.6036 - val_accuracy: 0.7726\n",
            "Epoch 2/5\n",
            "562/562 [==============================] - 8s 14ms/step - loss: 0.5888 - accuracy: 0.7835 - val_loss: 0.5515 - val_accuracy: 0.7886\n",
            "Epoch 3/5\n",
            "562/562 [==============================] - 7s 12ms/step - loss: 0.5529 - accuracy: 0.7953 - val_loss: 0.5322 - val_accuracy: 0.8078\n",
            "Epoch 4/5\n",
            "562/562 [==============================] - 5s 8ms/step - loss: 0.5303 - accuracy: 0.8060 - val_loss: 0.5329 - val_accuracy: 0.8005\n",
            "Epoch 5/5\n",
            "562/562 [==============================] - 6s 11ms/step - loss: 0.5345 - accuracy: 0.8085 - val_loss: 0.5081 - val_accuracy: 0.8108\n"
          ]
        }
      ]
    },
    {
      "cell_type": "code",
      "source": [
        "model_1.evaluate(valid_dataset)"
      ],
      "metadata": {
        "colab": {
          "base_uri": "https://localhost:8080/"
        },
        "id": "aTqMhPPPSRgx",
        "outputId": "d10a05a8-58b8-4d94-f54b-9d920c590a83"
      },
      "execution_count": null,
      "outputs": [
        {
          "output_type": "stream",
          "name": "stdout",
          "text": [
            "945/945 [==============================] - 3s 3ms/step - loss: 0.5031 - accuracy: 0.8172\n"
          ]
        },
        {
          "output_type": "execute_result",
          "data": {
            "text/plain": [
              "[0.5030754208564758, 0.81722491979599]"
            ]
          },
          "metadata": {},
          "execution_count": 31
        }
      ]
    },
    {
      "cell_type": "code",
      "source": [
        "model1_pred_probs= model_1.predict(valid_dataset)\n",
        "model1_pred_probs"
      ],
      "metadata": {
        "colab": {
          "base_uri": "https://localhost:8080/"
        },
        "id": "e5jwoc2oVKeG",
        "outputId": "828c744d-385e-40e1-e0b6-df6d66119d59"
      },
      "execution_count": null,
      "outputs": [
        {
          "output_type": "stream",
          "name": "stdout",
          "text": [
            "945/945 [==============================] - 2s 2ms/step\n"
          ]
        },
        {
          "output_type": "execute_result",
          "data": {
            "text/plain": [
              "array([[3.4596369e-01, 4.4593474e-01, 2.1763779e-03, 1.7650141e-01,\n",
              "        2.9423703e-02],\n",
              "       [2.4435753e-01, 6.2110084e-01, 3.7658953e-03, 7.4998774e-02,\n",
              "        5.5776976e-02],\n",
              "       [3.7551826e-01, 1.6185148e-01, 3.2699112e-02, 4.2306396e-01,\n",
              "        6.8671918e-03],\n",
              "       ...,\n",
              "       [4.6935843e-04, 2.4447720e-03, 2.7094306e-02, 2.1131846e-04,\n",
              "        9.6978027e-01],\n",
              "       [1.4879496e-02, 7.0709658e-01, 4.4206675e-02, 4.2121755e-03,\n",
              "        2.2960509e-01],\n",
              "       [1.5479704e-02, 9.6894550e-01, 8.1550321e-03, 9.3685702e-04,\n",
              "        6.4828224e-03]], dtype=float32)"
            ]
          },
          "metadata": {},
          "execution_count": 32
        }
      ]
    },
    {
      "cell_type": "code",
      "source": [
        "model1_preds = tf.argmax(model1_pred_probs,axis = 1)\n",
        "model1_preds\n"
      ],
      "metadata": {
        "colab": {
          "base_uri": "https://localhost:8080/"
        },
        "id": "0tfLUS1hVZtd",
        "outputId": "93822900-8a70-4f36-958a-71bc93b806a6"
      },
      "execution_count": null,
      "outputs": [
        {
          "output_type": "execute_result",
          "data": {
            "text/plain": [
              "<tf.Tensor: shape=(30212,), dtype=int64, numpy=array([1, 1, 3, ..., 4, 1, 1])>"
            ]
          },
          "metadata": {},
          "execution_count": 33
        }
      ]
    },
    {
      "cell_type": "code",
      "source": [
        "model1_results = calc_results(y_true = val_label_encoded,\n",
        "                              y_preds = model1_preds)\n",
        "model1_results"
      ],
      "metadata": {
        "colab": {
          "base_uri": "https://localhost:8080/"
        },
        "id": "iXR8u0ZCVygj",
        "outputId": "fa57939c-25a6-4346-cf52-1ac7b934b6f6"
      },
      "execution_count": null,
      "outputs": [
        {
          "output_type": "execute_result",
          "data": {
            "text/plain": [
              "{'accuracy': 81.7224943730968,\n",
              " 'precision': 0.8185373259020514,\n",
              " 'recall': 0.8172249437309679,\n",
              " 'f1': 0.813942558750268}"
            ]
          },
          "metadata": {},
          "execution_count": 34
        }
      ]
    },
    {
      "cell_type": "markdown",
      "source": [
        "Model - 2 feature Extraction with pre trained token embedding"
      ],
      "metadata": {
        "id": "nIqzuqOJWCfQ"
      }
    },
    {
      "cell_type": "code",
      "source": [
        "import tensorflow_hub as hub\n",
        "tf_hub_embedding_layer = hub.KerasLayer(\"https://tfhub.dev/google/universal-sentence-encoder/4\",\n",
        "                                        trainable = False)"
      ],
      "metadata": {
        "id": "ut-PmFT0XJfh"
      },
      "execution_count": null,
      "outputs": []
    },
    {
      "cell_type": "code",
      "source": [
        "print(f\"Random sentence : {random_sentence}\\nEmbedded sentence: {tf_hub_embedding_layer([random_sentence])}\")"
      ],
      "metadata": {
        "colab": {
          "base_uri": "https://localhost:8080/"
        },
        "id": "giUlKtPgZbTW",
        "outputId": "7579ddcf-e354-4c34-f37f-768c9954c252"
      },
      "execution_count": null,
      "outputs": [
        {
          "output_type": "stream",
          "name": "stdout",
          "text": [
            "Random sentence : one group received additional tuition using a training mannequin .\n",
            "Embedded sentence: [[-0.01171282 -0.00551874 -0.00928991 -0.00180128 -0.0724482   0.09077741\n",
            "  -0.01491411 -0.01423826 -0.05510377 -0.06571155 -0.02025671  0.05375119\n",
            "   0.05908729  0.03760116  0.00633753  0.00411843 -0.04163015 -0.01289274\n",
            "  -0.03777574 -0.09227782 -0.05892019  0.06862921 -0.0633567   0.02790202\n",
            "  -0.03265587  0.04872878 -0.0645288   0.05231309  0.06965381  0.05389299\n",
            "   0.08697729 -0.00728618 -0.01186528 -0.05885765 -0.08400655  0.07425349\n",
            "  -0.01763906 -0.05174532 -0.01541729  0.01323238 -0.0699873  -0.02283559\n",
            "  -0.03888258 -0.00415054 -0.03148953  0.06506343  0.04517421 -0.00071498\n",
            "   0.00010989  0.04747468 -0.03692305 -0.06788059  0.01183026 -0.0478655\n",
            "   0.03007764 -0.05538524 -0.02029361  0.01426599  0.04406369  0.00969662\n",
            "  -0.05652884  0.07845098 -0.05154875 -0.01780877 -0.01270808 -0.02996277\n",
            "   0.07377068  0.02812844 -0.03944585  0.02445319 -0.0206679   0.04025995\n",
            "  -0.02431001 -0.02920515 -0.04280647 -0.02042907 -0.01389528 -0.05026812\n",
            "   0.03179846 -0.00860185 -0.04071783 -0.01654884  0.03943009 -0.0516096\n",
            "   0.02887285  0.04473769 -0.05621835 -0.01568874  0.00904882  0.03187427\n",
            "  -0.05536604  0.06858136  0.02663571 -0.00288524  0.01793201  0.08947245\n",
            "   0.00129538 -0.03621256  0.02107209  0.0182356   0.0455213  -0.04546664\n",
            "   0.00096648 -0.0434089   0.01290487 -0.07644293  0.00936987  0.02397594\n",
            "   0.05887355  0.02882023  0.0729898   0.02376265  0.01277187 -0.03982373\n",
            "  -0.04827026  0.04113057  0.00348555 -0.05139694  0.02320745  0.02250654\n",
            "  -0.04001755 -0.03645783 -0.07169954  0.02714458  0.02221877  0.0833144\n",
            "   0.02164781 -0.00699027 -0.03389791  0.02340014 -0.00873804  0.03001709\n",
            "  -0.03997995 -0.05462634 -0.05878905  0.00315456  0.00229671 -0.06839868\n",
            "   0.05409772 -0.0702025  -0.00741304 -0.02325066 -0.03243679 -0.00220755\n",
            "  -0.00715066 -0.02310995  0.08491577 -0.03166953  0.02236968 -0.05544305\n",
            "   0.05555923  0.00418285 -0.00039791 -0.04992954 -0.0295636  -0.06900632\n",
            "  -0.03657302  0.02295075 -0.07046968 -0.06103827  0.04191019  0.04738713\n",
            "  -0.00514773 -0.05496483  0.01955025 -0.04276885  0.01921963 -0.08621015\n",
            "  -0.01832536 -0.08403958  0.03667013  0.04298475 -0.03291038  0.03894471\n",
            "  -0.00835955 -0.0306926   0.02392901  0.07410236  0.00973495  0.0590656\n",
            "  -0.05914308  0.06181813 -0.03227199  0.01684408  0.04300442  0.04151661\n",
            "  -0.00391981 -0.00339343  0.00845549 -0.02255074 -0.07359097 -0.02386167\n",
            "   0.01003483 -0.00767159 -0.04021942  0.05212261  0.0725079   0.00378383\n",
            "   0.00842844  0.00995007  0.0637185  -0.06657844  0.0413375   0.03267613\n",
            "   0.0732355  -0.05506941 -0.00374375 -0.0429049  -0.03718003  0.00495699\n",
            "  -0.01906231  0.00910912  0.07309789  0.00911438  0.04814249  0.04642354\n",
            "   0.00717586  0.0347854   0.0240839  -0.03928065  0.00371834  0.01189208\n",
            "   0.03676223 -0.00220367  0.05030734 -0.04882713  0.06291893  0.0510501\n",
            "  -0.03196106 -0.01102773  0.04460808  0.07094343  0.04148303  0.02123507\n",
            "   0.04087327 -0.05794336  0.00207098  0.02536503  0.04416135  0.01514846\n",
            "   0.04587972 -0.00804702 -0.02454867 -0.05520591 -0.07430924  0.03119488\n",
            "   0.00377845 -0.02064962 -0.01009172 -0.06741204  0.05445094  0.04916446\n",
            "   0.04228425  0.08318397 -0.02025479  0.06698668 -0.05889595 -0.07545861\n",
            "   0.07321455  0.00812305 -0.03364715  0.06297031 -0.04662119  0.02650459\n",
            "  -0.05034121 -0.04385     0.01809332  0.00044232 -0.0792738  -0.07052083\n",
            "  -0.04521403 -0.06394098  0.05529756  0.0631837  -0.08073191 -0.02676812\n",
            "  -0.04543738  0.00033753 -0.02725869 -0.04528435  0.03075938  0.03025609\n",
            "  -0.00144284  0.0440007  -0.06780488 -0.01359944  0.06122542  0.08103183\n",
            "  -0.01135159 -0.05671703  0.07127298 -0.07160491 -0.04444836  0.01527839\n",
            "  -0.0529336   0.06069091  0.04402347  0.01230753  0.05637082 -0.06421575\n",
            "   0.05678106 -0.03761259  0.00751268 -0.0662578  -0.05460412 -0.06729605\n",
            "   0.0683941  -0.03184444 -0.05346634 -0.03061583 -0.02443966  0.00703836\n",
            "   0.02839755 -0.05555603 -0.0265871   0.06303729  0.00214885  0.03388052\n",
            "   0.06600505 -0.01348465 -0.0235503  -0.04744643 -0.00653296  0.0179072\n",
            "  -0.06071077 -0.03258821  0.04416302  0.00160321  0.01276332 -0.08468406\n",
            "   0.07633238 -0.05121338  0.03593951 -0.02168244  0.03430781  0.07158575\n",
            "  -0.05635591 -0.03067965 -0.04162146  0.05505497 -0.02502568 -0.02577205\n",
            "  -0.01530539 -0.03314529  0.02398531  0.07702281  0.00144218  0.0378565\n",
            "   0.00379187  0.05391676  0.04825185 -0.01636264 -0.02000274  0.08451414\n",
            "  -0.07974395 -0.09233519 -0.06234281  0.00706487  0.02353567 -0.06645454\n",
            "   0.06638472  0.03125485 -0.05801365 -0.01284789  0.0126052  -0.06259535\n",
            "  -0.0099962   0.00123273  0.0585308   0.07385127 -0.01116342 -0.00438653\n",
            "  -0.02104866  0.04857868  0.05807729 -0.03579695 -0.05051808  0.04561406\n",
            "   0.04896532  0.01771174 -0.03418222 -0.03262196 -0.0727919   0.03697526\n",
            "  -0.03417341 -0.04623587 -0.01190543  0.03981014  0.08735763 -0.02348096\n",
            "   0.00351909  0.04989967 -0.01495195  0.03366045  0.03828156  0.03907079\n",
            "   0.07003587 -0.02946714  0.01166283 -0.04419773  0.04113089  0.0225303\n",
            "   0.01096014 -0.05391583 -0.02322059 -0.04872306 -0.04569904  0.01938503\n",
            "   0.02814119 -0.07861631  0.07456399 -0.01255072  0.01133316  0.02076026\n",
            "  -0.03019798 -0.03935357  0.02824905  0.02785477  0.0095957   0.0166045\n",
            "  -0.05039237 -0.08515776  0.02787821 -0.01685286  0.03134228  0.04091661\n",
            "  -0.02557516  0.04101824  0.06802541  0.05889712 -0.06798147  0.03351565\n",
            "   0.02742002 -0.04288684 -0.07324214  0.04258816 -0.03262359  0.03239485\n",
            "   0.04735425 -0.0585006   0.00684347  0.01958741 -0.00193076  0.01838753\n",
            "  -0.08233295 -0.0426461   0.0129931   0.0027405   0.01341739  0.06201272\n",
            "   0.03456526 -0.04761656  0.04353603 -0.00382777 -0.00513583  0.06557328\n",
            "   0.02122295  0.049649    0.06782329  0.05677683 -0.03131234  0.03137754\n",
            "   0.05852594  0.04865794  0.05268742  0.0487995   0.01639871  0.0155122\n",
            "  -0.05662886 -0.03284895  0.00610826 -0.0054331   0.0269703  -0.01067082\n",
            "  -0.01637274 -0.03962313  0.05020106 -0.02250847 -0.06562086 -0.07114945\n",
            "  -0.03370298  0.02385978  0.000332    0.06142399  0.04541699 -0.03239067\n",
            "   0.07032985 -0.07274795  0.04311167  0.03528374  0.03707883  0.08121826\n",
            "   0.04909518  0.0509329   0.05834271  0.0227242   0.02211965  0.05486052\n",
            "  -0.02781773  0.0407728  -0.0018442   0.05749756  0.03856883  0.04809621\n",
            "  -0.04744797  0.0377285  -0.05210934  0.0089132   0.04729329  0.02301223\n",
            "  -0.00146469 -0.0136046 ]]\n"
          ]
        }
      ]
    },
    {
      "cell_type": "code",
      "source": [
        "inputs = layers.Input(shape =[],dtype=tf.string)\n",
        "x = tf_hub_embedding_layer(inputs)\n",
        "x = layers.Dense(128,activation=\"relu\")(x)\n",
        "outputs = layers.Dense(5,activation=\"softmax\")(x)\n",
        "model_2 = tf.keras.Model(inputs,outputs)\n",
        "\n",
        "model_2.compile(loss = \"categorical_crossentropy\",\n",
        "                optimizer = tf.keras.optimizers.Adam(),\n",
        "                metrics = [\"accuracy\"])\n",
        "\n",
        "history_2 = model_2.fit(train_dataset,\n",
        "                        epochs = 5,\n",
        "                        steps_per_epoch = int(0.1*len(train_dataset)),\n",
        "                        validation_data = valid_dataset,\n",
        "                        validation_steps = int(0.1*len(valid_dataset)))"
      ],
      "metadata": {
        "colab": {
          "base_uri": "https://localhost:8080/"
        },
        "id": "1LZNkSK4Z73p",
        "outputId": "35f7af41-ca05-4ff0-9b79-18456420c440"
      },
      "execution_count": null,
      "outputs": [
        {
          "output_type": "stream",
          "name": "stdout",
          "text": [
            "Epoch 1/5\n",
            "562/562 [==============================] - 12s 16ms/step - loss: 0.9188 - accuracy: 0.6485 - val_loss: 0.7978 - val_accuracy: 0.6882\n",
            "Epoch 2/5\n",
            "562/562 [==============================] - 10s 17ms/step - loss: 0.7696 - accuracy: 0.7008 - val_loss: 0.7546 - val_accuracy: 0.7041\n",
            "Epoch 3/5\n",
            "562/562 [==============================] - 10s 18ms/step - loss: 0.7539 - accuracy: 0.7119 - val_loss: 0.7399 - val_accuracy: 0.7118\n",
            "Epoch 4/5\n",
            "562/562 [==============================] - 16s 29ms/step - loss: 0.7197 - accuracy: 0.7244 - val_loss: 0.7123 - val_accuracy: 0.7277\n",
            "Epoch 5/5\n",
            "562/562 [==============================] - 10s 18ms/step - loss: 0.7272 - accuracy: 0.7210 - val_loss: 0.6912 - val_accuracy: 0.7367\n"
          ]
        }
      ]
    },
    {
      "cell_type": "code",
      "source": [
        "model_2.evaluate(valid_dataset)"
      ],
      "metadata": {
        "colab": {
          "base_uri": "https://localhost:8080/"
        },
        "id": "GZNqWZeoeppm",
        "outputId": "f1026387-369a-40f9-808e-22dc271a5be1"
      },
      "execution_count": null,
      "outputs": [
        {
          "output_type": "stream",
          "name": "stdout",
          "text": [
            "945/945 [==============================] - 11s 12ms/step - loss: 0.6987 - accuracy: 0.7347\n"
          ]
        },
        {
          "output_type": "execute_result",
          "data": {
            "text/plain": [
              "[0.6987047791481018, 0.7347080707550049]"
            ]
          },
          "metadata": {},
          "execution_count": 38
        }
      ]
    },
    {
      "cell_type": "code",
      "source": [
        "model2_pred_probs = model_2.predict(valid_dataset)\n",
        "model2_preds = tf.argmax(model2_pred_probs,axis = 1)\n",
        "model2_preds"
      ],
      "metadata": {
        "colab": {
          "base_uri": "https://localhost:8080/"
        },
        "id": "nEezhNBWfS67",
        "outputId": "29c6e61a-33fa-4eb9-97d6-8339f369b5ce"
      },
      "execution_count": null,
      "outputs": [
        {
          "output_type": "stream",
          "name": "stdout",
          "text": [
            "945/945 [==============================] - 11s 11ms/step\n"
          ]
        },
        {
          "output_type": "execute_result",
          "data": {
            "text/plain": [
              "<tf.Tensor: shape=(30212,), dtype=int64, numpy=array([0, 1, 3, ..., 4, 2, 2])>"
            ]
          },
          "metadata": {},
          "execution_count": 39
        }
      ]
    },
    {
      "cell_type": "code",
      "source": [
        "model2_results = calc_results(y_true = val_label_encoded,\n",
        "                              y_preds = model2_preds)"
      ],
      "metadata": {
        "id": "h93vabdwfhXE"
      },
      "execution_count": null,
      "outputs": []
    },
    {
      "cell_type": "code",
      "source": [
        "model2_results"
      ],
      "metadata": {
        "colab": {
          "base_uri": "https://localhost:8080/"
        },
        "id": "v7amCMuKfxUl",
        "outputId": "40fbb1cd-ba2b-4606-b454-21764f3b3941"
      },
      "execution_count": null,
      "outputs": [
        {
          "output_type": "execute_result",
          "data": {
            "text/plain": [
              "{'accuracy': 73.4708063021316,\n",
              " 'precision': 0.7308940369796506,\n",
              " 'recall': 0.7347080630213161,\n",
              " 'f1': 0.7288826473083987}"
            ]
          },
          "metadata": {},
          "execution_count": 41
        }
      ]
    },
    {
      "cell_type": "code",
      "source": [
        "baseline_results = calc_results(y_true = val_label_encoded,\n",
        "                                y_preds = baseline_preds)"
      ],
      "metadata": {
        "id": "9RErAmR5f0IN"
      },
      "execution_count": null,
      "outputs": []
    },
    {
      "cell_type": "code",
      "source": [
        "baseline_results"
      ],
      "metadata": {
        "colab": {
          "base_uri": "https://localhost:8080/"
        },
        "id": "QHpke2s4f3-r",
        "outputId": "8920a6df-6200-4b78-932d-6ba6c7b7c433"
      },
      "execution_count": null,
      "outputs": [
        {
          "output_type": "execute_result",
          "data": {
            "text/plain": [
              "{'accuracy': 72.1832384482987,\n",
              " 'precision': 0.7186466952323352,\n",
              " 'recall': 0.7218323844829869,\n",
              " 'f1': 0.6989250353450294}"
            ]
          },
          "metadata": {},
          "execution_count": 43
        }
      ]
    },
    {
      "cell_type": "code",
      "source": [
        "def split_chars(text):\n",
        "  return \" \".join(list(text))\n",
        "split_chars(random_sentence)"
      ],
      "metadata": {
        "id": "faNNfeZ4-EXK",
        "colab": {
          "base_uri": "https://localhost:8080/",
          "height": 35
        },
        "outputId": "0f98361e-4f5b-4381-f9fb-01379d920ced"
      },
      "execution_count": null,
      "outputs": [
        {
          "output_type": "execute_result",
          "data": {
            "text/plain": [
              "'o n e   g r o u p   r e c e i v e d   a d d i t i o n a l   t u i t i o n   u s i n g   a   t r a i n i n g   m a n n e q u i n   .'"
            ],
            "application/vnd.google.colaboratory.intrinsic+json": {
              "type": "string"
            }
          },
          "metadata": {},
          "execution_count": 44
        }
      ]
    },
    {
      "cell_type": "code",
      "source": [
        "train_chars = [split_chars(sentence) for sentence in train_sentences]\n",
        "val_chars = [split_chars(sentence) for sentence in val_sentences]\n",
        "test_chars  = [split_chars(sentence) for sentence in test_sentences]"
      ],
      "metadata": {
        "id": "A65XjoPhgL-K"
      },
      "execution_count": null,
      "outputs": []
    },
    {
      "cell_type": "code",
      "source": [
        "char_lens = [len(sentence) for sentence in train_sentences]\n",
        "mean_char_len = np.mean(char_lens)\n",
        "mean_char_len"
      ],
      "metadata": {
        "colab": {
          "base_uri": "https://localhost:8080/"
        },
        "id": "oO6JKs-UazuX",
        "outputId": "3916afe5-116d-4cb1-dab5-fde4e05b2d3a"
      },
      "execution_count": null,
      "outputs": [
        {
          "output_type": "execute_result",
          "data": {
            "text/plain": [
              "149.3662574983337"
            ]
          },
          "metadata": {},
          "execution_count": 46
        }
      ]
    },
    {
      "cell_type": "code",
      "source": [
        "output_seq_char_len = int(np.percentile(char_lens,95))\n",
        "output_seq_char_len"
      ],
      "metadata": {
        "colab": {
          "base_uri": "https://localhost:8080/"
        },
        "id": "uozEMmToa_5z",
        "outputId": "5dfd9b52-9606-4d73-dc10-ad0bac9903ca"
      },
      "execution_count": null,
      "outputs": [
        {
          "output_type": "execute_result",
          "data": {
            "text/plain": [
              "290"
            ]
          },
          "metadata": {},
          "execution_count": 47
        }
      ]
    },
    {
      "cell_type": "code",
      "source": [
        "import string\n",
        "alphabet = string.ascii_lowercase + string.digits + string.punctuation\n",
        "alphabet"
      ],
      "metadata": {
        "colab": {
          "base_uri": "https://localhost:8080/",
          "height": 35
        },
        "id": "uGrwsPCObKqb",
        "outputId": "133838db-d966-44a3-f269-6c1b29da44ff"
      },
      "execution_count": null,
      "outputs": [
        {
          "output_type": "execute_result",
          "data": {
            "text/plain": [
              "'abcdefghijklmnopqrstuvwxyz0123456789!\"#$%&\\'()*+,-./:;<=>?@[\\\\]^_`{|}~'"
            ],
            "application/vnd.google.colaboratory.intrinsic+json": {
              "type": "string"
            }
          },
          "metadata": {},
          "execution_count": 48
        }
      ]
    },
    {
      "cell_type": "code",
      "source": [
        "num_of_char = len(alphabet)\n",
        "char_vectorizer = TextVectorization(max_tokens = num_of_char,\n",
        "                                    output_sequence_length = output_seq_char_len)"
      ],
      "metadata": {
        "id": "ht8t0WmAbTX7"
      },
      "execution_count": null,
      "outputs": []
    },
    {
      "cell_type": "code",
      "source": [
        "char_vectorizer.adapt(train_chars)"
      ],
      "metadata": {
        "id": "GiFHoyWUbuls"
      },
      "execution_count": null,
      "outputs": []
    },
    {
      "cell_type": "code",
      "source": [
        "char_vocab = char_vectorizer.get_vocabulary()\n",
        "char_vocab[:5], char_vocab[-5:],len(char_vocab)"
      ],
      "metadata": {
        "colab": {
          "base_uri": "https://localhost:8080/"
        },
        "id": "3HW2LyE3b0Ga",
        "outputId": "c22357a4-9957-4640-b63e-2fd238bbe516"
      },
      "execution_count": null,
      "outputs": [
        {
          "output_type": "execute_result",
          "data": {
            "text/plain": [
              "(['', '[UNK]', 'e', 't', 'i'], ['k', 'x', 'z', 'q', 'j'], 28)"
            ]
          },
          "metadata": {},
          "execution_count": 51
        }
      ]
    },
    {
      "cell_type": "code",
      "source": [
        "random_train_chars = random.choice(train_chars)\n",
        "\n",
        "vectorized_chars = char_vectorizer(random_train_chars)\n",
        "random_train_chars, len(random_train_chars.split()),vectorized_chars,len(vectorized_chars)"
      ],
      "metadata": {
        "colab": {
          "base_uri": "https://localhost:8080/"
        },
        "id": "XKWI21IucD_t",
        "outputId": "6a52ae08-d440-4607-9ca0-fe5dd9c78ea9"
      },
      "execution_count": null,
      "outputs": [
        {
          "output_type": "execute_result",
          "data": {
            "text/plain": [
              "('o v e r a l l   i n h a l e d   v o l u m e s   w e r e   l o w   ,   a n d   o n l y   o n e   p a t i e n t   a c h i e v e d   a n   i v   >   @ l   a n d   p   >   @ k p a   .',\n",
              " 71,\n",
              " <tf.Tensor: shape=(290,), dtype=int64, numpy=\n",
              " array([ 7, 21,  2,  8,  5, 12, 12,  4,  6, 13,  5, 12,  2, 10, 21,  7, 12,\n",
              "        16, 15,  2,  9, 20,  2,  8,  2, 12,  7, 20,  5,  6, 10,  7,  6, 12,\n",
              "        19,  7,  6,  2, 14,  5,  3,  4,  2,  6,  3,  5, 11, 13,  4,  2, 21,\n",
              "         2, 10,  5,  6,  4, 21, 12,  5,  6, 10, 14, 23, 14,  5,  0,  0,  0,\n",
              "         0,  0,  0,  0,  0,  0,  0,  0,  0,  0,  0,  0,  0,  0,  0,  0,  0,\n",
              "         0,  0,  0,  0,  0,  0,  0,  0,  0,  0,  0,  0,  0,  0,  0,  0,  0,\n",
              "         0,  0,  0,  0,  0,  0,  0,  0,  0,  0,  0,  0,  0,  0,  0,  0,  0,\n",
              "         0,  0,  0,  0,  0,  0,  0,  0,  0,  0,  0,  0,  0,  0,  0,  0,  0,\n",
              "         0,  0,  0,  0,  0,  0,  0,  0,  0,  0,  0,  0,  0,  0,  0,  0,  0,\n",
              "         0,  0,  0,  0,  0,  0,  0,  0,  0,  0,  0,  0,  0,  0,  0,  0,  0,\n",
              "         0,  0,  0,  0,  0,  0,  0,  0,  0,  0,  0,  0,  0,  0,  0,  0,  0,\n",
              "         0,  0,  0,  0,  0,  0,  0,  0,  0,  0,  0,  0,  0,  0,  0,  0,  0,\n",
              "         0,  0,  0,  0,  0,  0,  0,  0,  0,  0,  0,  0,  0,  0,  0,  0,  0,\n",
              "         0,  0,  0,  0,  0,  0,  0,  0,  0,  0,  0,  0,  0,  0,  0,  0,  0,\n",
              "         0,  0,  0,  0,  0,  0,  0,  0,  0,  0,  0,  0,  0,  0,  0,  0,  0,\n",
              "         0,  0,  0,  0,  0,  0,  0,  0,  0,  0,  0,  0,  0,  0,  0,  0,  0,\n",
              "         0,  0,  0,  0,  0,  0,  0,  0,  0,  0,  0,  0,  0,  0,  0,  0,  0,\n",
              "         0])>,\n",
              " 290)"
            ]
          },
          "metadata": {},
          "execution_count": 52
        }
      ]
    },
    {
      "cell_type": "code",
      "source": [
        "embedding_char = layers.Embedding(input_dim = num_of_char,\n",
        "                           output_dim = 25)\n"
      ],
      "metadata": {
        "id": "qUKib3KCcusN"
      },
      "execution_count": null,
      "outputs": []
    },
    {
      "cell_type": "code",
      "source": [
        "random_train_chars,char_vectorizer(random_train_chars),embedding_char(char_vectorizer(random_train_chars))"
      ],
      "metadata": {
        "colab": {
          "base_uri": "https://localhost:8080/"
        },
        "id": "rilz3IksirHM",
        "outputId": "47138fb5-5eed-452b-e56c-a314c8771a71"
      },
      "execution_count": null,
      "outputs": [
        {
          "output_type": "execute_result",
          "data": {
            "text/plain": [
              "('o v e r a l l   i n h a l e d   v o l u m e s   w e r e   l o w   ,   a n d   o n l y   o n e   p a t i e n t   a c h i e v e d   a n   i v   >   @ l   a n d   p   >   @ k p a   .',\n",
              " <tf.Tensor: shape=(290,), dtype=int64, numpy=\n",
              " array([ 7, 21,  2,  8,  5, 12, 12,  4,  6, 13,  5, 12,  2, 10, 21,  7, 12,\n",
              "        16, 15,  2,  9, 20,  2,  8,  2, 12,  7, 20,  5,  6, 10,  7,  6, 12,\n",
              "        19,  7,  6,  2, 14,  5,  3,  4,  2,  6,  3,  5, 11, 13,  4,  2, 21,\n",
              "         2, 10,  5,  6,  4, 21, 12,  5,  6, 10, 14, 23, 14,  5,  0,  0,  0,\n",
              "         0,  0,  0,  0,  0,  0,  0,  0,  0,  0,  0,  0,  0,  0,  0,  0,  0,\n",
              "         0,  0,  0,  0,  0,  0,  0,  0,  0,  0,  0,  0,  0,  0,  0,  0,  0,\n",
              "         0,  0,  0,  0,  0,  0,  0,  0,  0,  0,  0,  0,  0,  0,  0,  0,  0,\n",
              "         0,  0,  0,  0,  0,  0,  0,  0,  0,  0,  0,  0,  0,  0,  0,  0,  0,\n",
              "         0,  0,  0,  0,  0,  0,  0,  0,  0,  0,  0,  0,  0,  0,  0,  0,  0,\n",
              "         0,  0,  0,  0,  0,  0,  0,  0,  0,  0,  0,  0,  0,  0,  0,  0,  0,\n",
              "         0,  0,  0,  0,  0,  0,  0,  0,  0,  0,  0,  0,  0,  0,  0,  0,  0,\n",
              "         0,  0,  0,  0,  0,  0,  0,  0,  0,  0,  0,  0,  0,  0,  0,  0,  0,\n",
              "         0,  0,  0,  0,  0,  0,  0,  0,  0,  0,  0,  0,  0,  0,  0,  0,  0,\n",
              "         0,  0,  0,  0,  0,  0,  0,  0,  0,  0,  0,  0,  0,  0,  0,  0,  0,\n",
              "         0,  0,  0,  0,  0,  0,  0,  0,  0,  0,  0,  0,  0,  0,  0,  0,  0,\n",
              "         0,  0,  0,  0,  0,  0,  0,  0,  0,  0,  0,  0,  0,  0,  0,  0,  0,\n",
              "         0,  0,  0,  0,  0,  0,  0,  0,  0,  0,  0,  0,  0,  0,  0,  0,  0,\n",
              "         0])>,\n",
              " <tf.Tensor: shape=(290, 25), dtype=float32, numpy=\n",
              " array([[ 1.5793990e-02, -3.5947789e-02,  2.8860997e-02, ...,\n",
              "         -4.7575261e-02,  5.9079379e-05, -1.9149220e-02],\n",
              "        [-1.7856471e-03, -2.1750534e-02,  2.2969555e-02, ...,\n",
              "         -2.4655653e-02, -4.5696437e-02,  3.7537720e-02],\n",
              "        [-4.5291819e-02,  1.9061413e-02, -1.0274958e-02, ...,\n",
              "          4.8784424e-02, -4.1292392e-02, -2.1776414e-02],\n",
              "        ...,\n",
              "        [ 5.1439516e-03,  3.2473769e-02, -1.6194321e-02, ...,\n",
              "         -3.2346357e-02,  1.1489905e-02, -1.9353820e-02],\n",
              "        [ 5.1439516e-03,  3.2473769e-02, -1.6194321e-02, ...,\n",
              "         -3.2346357e-02,  1.1489905e-02, -1.9353820e-02],\n",
              "        [ 5.1439516e-03,  3.2473769e-02, -1.6194321e-02, ...,\n",
              "         -3.2346357e-02,  1.1489905e-02, -1.9353820e-02]], dtype=float32)>)"
            ]
          },
          "metadata": {},
          "execution_count": 54
        }
      ]
    },
    {
      "cell_type": "markdown",
      "source": [
        "Model - 3 COnv1d Char embeddings"
      ],
      "metadata": {
        "id": "nepn51CFjgad"
      }
    },
    {
      "cell_type": "code",
      "source": [
        "inputs = layers.Input(shape = (1,), dtype=tf.string)\n",
        "x = char_vectorizer(inputs)\n",
        "x = embedding_char(x)\n",
        "x = layers.Conv1D(filters = 64,\n",
        "                  kernel_size = 5,\n",
        "                  padding = \"same\",\n",
        "                  activation = \"relu\")(x)\n",
        "x = layers.GlobalMaxPooling1D()(x)\n",
        "outputs = layers.Dense(5,activation=\"softmax\")(x)\n",
        "model_3 = tf.keras.Model(inputs,outputs)\n",
        "\n",
        "model_3.compile(loss = \"categorical_crossentropy\",\n",
        "                optimizer = tf.keras.optimizers.Adam(),\n",
        "                metrics = [\"accuracy\"])\n",
        "model_3.summary()"
      ],
      "metadata": {
        "colab": {
          "base_uri": "https://localhost:8080/"
        },
        "id": "OVsH0plgjpzl",
        "outputId": "9016f46f-65f3-4564-b500-a0a1c7828c9d"
      },
      "execution_count": null,
      "outputs": [
        {
          "output_type": "stream",
          "name": "stdout",
          "text": [
            "Model: \"model_19\"\n",
            "_________________________________________________________________\n",
            " Layer (type)                Output Shape              Param #   \n",
            "=================================================================\n",
            " input_16 (InputLayer)       [(None, 1)]               0         \n",
            "                                                                 \n",
            " text_vectorization_1 (TextV  (None, 290)              0         \n",
            " ectorization)                                                   \n",
            "                                                                 \n",
            " embedding_1 (Embedding)     (None, 290, 25)           1700      \n",
            "                                                                 \n",
            " conv1d_2 (Conv1D)           (None, 290, 64)           8064      \n",
            "                                                                 \n",
            " global_max_pooling1d_2 (Glo  (None, 64)               0         \n",
            " balMaxPooling1D)                                                \n",
            "                                                                 \n",
            " dense_20 (Dense)            (None, 5)                 325       \n",
            "                                                                 \n",
            "=================================================================\n",
            "Total params: 10,089\n",
            "Trainable params: 10,089\n",
            "Non-trainable params: 0\n",
            "_________________________________________________________________\n"
          ]
        }
      ]
    },
    {
      "cell_type": "code",
      "source": [
        "train_chars_dataset = tf.data.Dataset.from_tensor_slices((train_chars,train_labels_one_hot)).batch(32).prefetch(tf.data.AUTOTUNE)\n",
        "val_chars_dataset = tf.data.Dataset.from_tensor_slices((val_chars,val_labels_one_hot)).batch(32).prefetch(tf.data.AUTOTUNE)\n",
        "test_chars_dataset = tf.data.Dataset.from_tensor_slices((test_chars,test_labels_one_hot)).batch(32).prefetch(tf.data.AUTOTUNE)\n",
        "train_chars_dataset"
      ],
      "metadata": {
        "colab": {
          "base_uri": "https://localhost:8080/"
        },
        "id": "lpO21AXYkelx",
        "outputId": "3feb4792-b2e6-4e63-a6fa-e608906d6fd3"
      },
      "execution_count": null,
      "outputs": [
        {
          "output_type": "execute_result",
          "data": {
            "text/plain": [
              "<_PrefetchDataset element_spec=(TensorSpec(shape=(None,), dtype=tf.string, name=None), TensorSpec(shape=(None, 5), dtype=tf.float64, name=None))>"
            ]
          },
          "metadata": {},
          "execution_count": 56
        }
      ]
    },
    {
      "cell_type": "code",
      "source": [
        "history_3 = model_3.fit(train_chars_dataset,\n",
        "                        epochs = 10,\n",
        "                        steps_per_epoch = int(0.1*len(train_chars_dataset)),\n",
        "                        validation_data = val_chars_dataset,\n",
        "                        validation_steps = int(0.1*len(val_chars_dataset)))"
      ],
      "metadata": {
        "colab": {
          "base_uri": "https://localhost:8080/"
        },
        "id": "KhIJaREAlQZ6",
        "outputId": "5aa89a15-2b79-4a9b-b1a7-1481cf136036"
      },
      "execution_count": null,
      "outputs": [
        {
          "output_type": "stream",
          "name": "stdout",
          "text": [
            "Epoch 1/10\n",
            "562/562 [==============================] - 4s 8ms/step - loss: 0.8689 - accuracy: 0.6637 - val_loss: 0.8314 - val_accuracy: 0.6832\n",
            "Epoch 2/10\n",
            "562/562 [==============================] - 4s 7ms/step - loss: 0.8349 - accuracy: 0.6748 - val_loss: 0.8048 - val_accuracy: 0.7008\n",
            "Epoch 3/10\n",
            "562/562 [==============================] - 3s 5ms/step - loss: 0.8169 - accuracy: 0.6871 - val_loss: 0.7929 - val_accuracy: 0.6981\n",
            "Epoch 4/10\n",
            "562/562 [==============================] - 3s 5ms/step - loss: 0.8072 - accuracy: 0.6921 - val_loss: 0.7703 - val_accuracy: 0.7035\n",
            "Epoch 5/10\n",
            "562/562 [==============================] - 3s 5ms/step - loss: 0.8056 - accuracy: 0.6909 - val_loss: 0.7727 - val_accuracy: 0.7028\n",
            "Epoch 6/10\n",
            "562/562 [==============================] - 4s 7ms/step - loss: 0.7936 - accuracy: 0.6960 - val_loss: 0.7580 - val_accuracy: 0.7078\n",
            "Epoch 7/10\n",
            "562/562 [==============================] - 3s 5ms/step - loss: 0.7898 - accuracy: 0.6952 - val_loss: 0.7536 - val_accuracy: 0.7138\n",
            "Epoch 8/10\n",
            "562/562 [==============================] - 3s 5ms/step - loss: 0.7617 - accuracy: 0.7105 - val_loss: 0.7454 - val_accuracy: 0.7194\n",
            "Epoch 9/10\n",
            "562/562 [==============================] - 3s 5ms/step - loss: 0.7627 - accuracy: 0.7070 - val_loss: 0.7597 - val_accuracy: 0.7038\n",
            "Epoch 10/10\n",
            "562/562 [==============================] - 4s 7ms/step - loss: 0.7628 - accuracy: 0.7100 - val_loss: 0.7293 - val_accuracy: 0.7241\n"
          ]
        }
      ]
    },
    {
      "cell_type": "code",
      "source": [
        "model_3.evaluate(val_chars_dataset)"
      ],
      "metadata": {
        "colab": {
          "base_uri": "https://localhost:8080/"
        },
        "id": "vy3wCvuOlojh",
        "outputId": "f2636714-89c7-44c5-c2e3-33993d25596d"
      },
      "execution_count": null,
      "outputs": [
        {
          "output_type": "stream",
          "name": "stdout",
          "text": [
            "945/945 [==============================] - 4s 4ms/step - loss: 0.8932 - accuracy: 0.6538\n"
          ]
        },
        {
          "output_type": "execute_result",
          "data": {
            "text/plain": [
              "[0.8932242393493652, 0.6537799835205078]"
            ]
          },
          "metadata": {},
          "execution_count": 58
        }
      ]
    },
    {
      "cell_type": "code",
      "source": [
        "model3_pred_probs = model_3.predict(val_chars_dataset)\n",
        "model3_pred_probs = tf.argmax(model3_pred_probs,axis = 1)\n",
        "model3_pred_probs"
      ],
      "metadata": {
        "colab": {
          "base_uri": "https://localhost:8080/"
        },
        "id": "wg5ghVhRl_3z",
        "outputId": "2d62ea9e-9acd-40e3-8f12-bc9202b9aadf"
      },
      "execution_count": null,
      "outputs": [
        {
          "output_type": "stream",
          "name": "stdout",
          "text": [
            "945/945 [==============================] - 3s 3ms/step\n"
          ]
        },
        {
          "output_type": "execute_result",
          "data": {
            "text/plain": [
              "<tf.Tensor: shape=(30212,), dtype=int64, numpy=array([1, 1, 3, ..., 4, 4, 0])>"
            ]
          },
          "metadata": {},
          "execution_count": 59
        }
      ]
    },
    {
      "cell_type": "code",
      "source": [
        "model3_results = calc_results(y_true = val_label_encoded,\n",
        "             y_preds = model3_pred_probs)"
      ],
      "metadata": {
        "id": "v8kK-vYcmG8P"
      },
      "execution_count": null,
      "outputs": []
    },
    {
      "cell_type": "code",
      "source": [
        "# 1. Create a token-level embedding model\n",
        "token_inputs = layers.Input(shape=[],dtype=tf.string)\n",
        "token_embeddings = tf_hub_embedding_layer(token_inputs)\n",
        "token_outputs = layers.Dense(128,activation=\"relu\")(token_embeddings)\n",
        "token_model = tf.keras.Model(inputs = token_inputs,\n",
        "                             outputs = token_outputs)\n",
        "\n",
        "# 2. Create a char-level embedding model\n",
        "char_inputs = layers.Input(shape = (1,),dtype = tf.string)\n",
        "char_vectors = char_vectorizer(char_inputs)\n",
        "char_embeddings = embedding_char(char_vectors)\n",
        "char_bi_lstm = layers.Bidirectional(layers.LSTM(24))(char_embeddings)\n",
        "char_model = tf.keras.Model(inputs = char_inputs,\n",
        "                            outputs = char_bi_lstm)\n",
        "\n",
        "# 3. Concatenate token-level embedding model and char-level embedding model - hybrid token embedding\n",
        "token_char_concat = layers.Concatenate(name = \"token_char_hybrid\")([token_model.output,\n",
        "                                                                    char_model.output])\n",
        "\n",
        "\n",
        "# 4. Create output layers  - adding the Dropout layer(a layer which drops some patterns to avoid overfitting)\n",
        "combined_dropout = layers.Dropout(0.5)(token_char_concat)\n",
        "combined_dense = layers.Dense(128,activation=\"relu\")(combined_dropout)\n",
        "final_dropout = layers.Dropout(0.5)(combined_dense)\n",
        "output_layer = layers.Dense(5,activation=\"softmax\")(final_dropout)\n",
        "\n",
        "# 5. Construct model with char and token level inputs\n",
        "model_4 = tf.keras.Model(inputs = [token_model.input,char_model.input],\n",
        "                         outputs = output_layer)\n"
      ],
      "metadata": {
        "id": "pgr7sfddmaY3"
      },
      "execution_count": null,
      "outputs": []
    },
    {
      "cell_type": "code",
      "source": [
        "model_4.summary()"
      ],
      "metadata": {
        "colab": {
          "base_uri": "https://localhost:8080/"
        },
        "id": "cUWR2lbsrgxr",
        "outputId": "7a8f767e-6276-432c-c095-089d1a1bf0bc"
      },
      "execution_count": null,
      "outputs": [
        {
          "output_type": "stream",
          "name": "stdout",
          "text": [
            "Model: \"model_5\"\n",
            "__________________________________________________________________________________________________\n",
            " Layer (type)                   Output Shape         Param #     Connected to                     \n",
            "==================================================================================================\n",
            " input_5 (InputLayer)           [(None, 1)]          0           []                               \n",
            "                                                                                                  \n",
            " input_4 (InputLayer)           [(None,)]            0           []                               \n",
            "                                                                                                  \n",
            " text_vectorization_1 (TextVect  (None, 290)         0           ['input_5[0][0]']                \n",
            " orization)                                                                                       \n",
            "                                                                                                  \n",
            " keras_layer (KerasLayer)       (None, 512)          256797824   ['input_4[0][0]']                \n",
            "                                                                                                  \n",
            " embedding_1 (Embedding)        (None, 290, 25)      1700        ['text_vectorization_1[1][0]']   \n",
            "                                                                                                  \n",
            " dense_4 (Dense)                (None, 128)          65664       ['keras_layer[1][0]']            \n",
            "                                                                                                  \n",
            " bidirectional (Bidirectional)  (None, 48)           9600        ['embedding_1[1][0]']            \n",
            "                                                                                                  \n",
            " token_char_hybrid (Concatenate  (None, 176)         0           ['dense_4[0][0]',                \n",
            " )                                                                'bidirectional[0][0]']          \n",
            "                                                                                                  \n",
            " dropout (Dropout)              (None, 176)          0           ['token_char_hybrid[0][0]']      \n",
            "                                                                                                  \n",
            " dense_5 (Dense)                (None, 128)          22656       ['dropout[0][0]']                \n",
            "                                                                                                  \n",
            " dropout_1 (Dropout)            (None, 128)          0           ['dense_5[0][0]']                \n",
            "                                                                                                  \n",
            " dense_6 (Dense)                (None, 5)            645         ['dropout_1[0][0]']              \n",
            "                                                                                                  \n",
            "==================================================================================================\n",
            "Total params: 256,898,089\n",
            "Trainable params: 100,265\n",
            "Non-trainable params: 256,797,824\n",
            "__________________________________________________________________________________________________\n"
          ]
        }
      ]
    },
    {
      "cell_type": "code",
      "source": [
        "from keras.utils import plot_model\n",
        "plot_model(model_4,show_shapes = True)"
      ],
      "metadata": {
        "colab": {
          "base_uri": "https://localhost:8080/",
          "height": 976
        },
        "id": "huD2065mrvQh",
        "outputId": "29420471-7cd7-4a21-a25d-1882c76f987e"
      },
      "execution_count": null,
      "outputs": [
        {
          "output_type": "execute_result",
          "data": {
            "image/png": "[encoded data removed]",
            "text/plain": [
              "<IPython.core.display.Image object>"
            ]
          },
          "metadata": {},
          "execution_count": 63
        }
      ]
    },
    {
      "cell_type": "code",
      "source": [
        "model_4.compile(loss = \"categorical_crossentropy\",\n",
        "                optimizer = tf.keras.optimizers.SGD(),\n",
        "                metrics = [\"accuracy\"])\n"
      ],
      "metadata": {
        "id": "ef1f7PJusPDW"
      },
      "execution_count": null,
      "outputs": []
    },
    {
      "cell_type": "code",
      "source": [
        "# Combining token and character data into tf.Data Dataset\n",
        "#Combine chars and tokens into a dataset\n",
        "train_token_char_data = tf.data.Dataset.from_tensor_slices((train_sentences,train_chars))\n",
        "train_char_token_labels = tf.data.Dataset.from_tensor_slices((train_labels_one_hot))\n",
        "train_char_token_dataset = tf.data.Dataset.zip((train_token_char_data,train_char_token_labels)).batch(32).prefetch(tf.data.AUTOTUNE)"
      ],
      "metadata": {
        "id": "XzF0Kjrqtjjn"
      },
      "execution_count": null,
      "outputs": []
    },
    {
      "cell_type": "code",
      "source": [
        "val_token_char_data = tf.data.Dataset.from_tensor_slices((val_sentences,val_chars))\n",
        "val_char_token_labels = tf.data.Dataset.from_tensor_slices((val_labels_one_hot))\n",
        "val_char_token_dataset = tf.data.Dataset.zip((val_token_char_data,val_char_token_labels)).batch(32).prefetch(tf.data.AUTOTUNE)"
      ],
      "metadata": {
        "id": "DgDjaICgu_7N"
      },
      "execution_count": null,
      "outputs": []
    },
    {
      "cell_type": "code",
      "source": [
        "history_4 = model_4.fit(train_char_token_dataset,\n",
        "                        epochs = 5,\n",
        "                        steps_per_epoch = int(0.1*len(train_char_token_dataset)),\n",
        "                        validation_data = val_char_token_dataset,\n",
        "                        validation_steps = int(0.1*len(val_char_token_dataset)))"
      ],
      "metadata": {
        "colab": {
          "base_uri": "https://localhost:8080/"
        },
        "id": "wtCl1Y2JvtZC",
        "outputId": "1feede67-102b-48c4-d673-deceaafb7e0a"
      },
      "execution_count": null,
      "outputs": [
        {
          "output_type": "stream",
          "name": "stdout",
          "text": [
            "Epoch 1/5\n",
            "562/562 [==============================] - 27s 39ms/step - loss: 1.4937 - accuracy: 0.3377 - val_loss: 1.4503 - val_accuracy: 0.4166\n",
            "Epoch 2/5\n",
            "562/562 [==============================] - 20s 36ms/step - loss: 1.4434 - accuracy: 0.3814 - val_loss: 1.4175 - val_accuracy: 0.4744\n",
            "Epoch 3/5\n",
            "562/562 [==============================] - 19s 33ms/step - loss: 1.4071 - accuracy: 0.4238 - val_loss: 1.3587 - val_accuracy: 0.4967\n",
            "Epoch 4/5\n",
            "562/562 [==============================] - 21s 37ms/step - loss: 1.3408 - accuracy: 0.4571 - val_loss: 1.2669 - val_accuracy: 0.5183\n",
            "Epoch 5/5\n",
            "562/562 [==============================] - 19s 34ms/step - loss: 1.2628 - accuracy: 0.4888 - val_loss: 1.1603 - val_accuracy: 0.5389\n"
          ]
        }
      ]
    },
    {
      "cell_type": "code",
      "source": [
        "model_4.evaluate(val_char_token_dataset)"
      ],
      "metadata": {
        "colab": {
          "base_uri": "https://localhost:8080/"
        },
        "id": "Njgkzdu_w11R",
        "outputId": "2c63cbe5-fdb6-492f-a87e-ee34da4e0773"
      },
      "execution_count": null,
      "outputs": [
        {
          "output_type": "stream",
          "name": "stdout",
          "text": [
            "945/945 [==============================] - 19s 21ms/step - loss: 1.3568 - accuracy: 0.5233\n"
          ]
        },
        {
          "output_type": "execute_result",
          "data": {
            "text/plain": [
              "[1.3568090200424194, 0.5233350992202759]"
            ]
          },
          "metadata": {},
          "execution_count": 68
        }
      ]
    },
    {
      "cell_type": "code",
      "source": [
        "model4_pred_probs = tf.argmax(model_4.predict(val_char_token_dataset),axis = 1)\n",
        "model4_pred_probs"
      ],
      "metadata": {
        "colab": {
          "base_uri": "https://localhost:8080/"
        },
        "id": "BQN0TaTvx0kb",
        "outputId": "ab5ca7d5-62d7-444d-837d-aefcd8b33de9"
      },
      "execution_count": null,
      "outputs": [
        {
          "output_type": "stream",
          "name": "stdout",
          "text": [
            "945/945 [==============================] - 18s 18ms/step\n"
          ]
        },
        {
          "output_type": "execute_result",
          "data": {
            "text/plain": [
              "<tf.Tensor: shape=(30212,), dtype=int64, numpy=array([4, 4, 4, ..., 4, 4, 2])>"
            ]
          },
          "metadata": {},
          "execution_count": 69
        }
      ]
    },
    {
      "cell_type": "code",
      "source": [
        "model4_results = calc_results(y_true = val_label_encoded,\n",
        "             y_preds = model4_pred_probs)"
      ],
      "metadata": {
        "colab": {
          "base_uri": "https://localhost:8080/"
        },
        "id": "uqU0DfffyCQ5",
        "outputId": "49e95491-1cce-4c6a-a112-836260178e8e"
      },
      "execution_count": null,
      "outputs": [
        {
          "output_type": "stream",
          "name": "stderr",
          "text": [
            "/usr/local/lib/python3.9/dist-packages/sklearn/metrics/_classification.py:1344: UndefinedMetricWarning: Precision and F-score are ill-defined and being set to 0.0 in labels with no predicted samples. Use `zero_division` parameter to control this behavior.\n",
            "  _warn_prf(average, modifier, msg_start, len(result))\n"
          ]
        }
      ]
    },
    {
      "cell_type": "code",
      "source": [
        "model4_results"
      ],
      "metadata": {
        "colab": {
          "base_uri": "https://localhost:8080/"
        },
        "id": "TS9nC5d2yrqu",
        "outputId": "c0ce09d4-21bd-4428-f264-0bf3e5d7d83f"
      },
      "execution_count": null,
      "outputs": [
        {
          "output_type": "execute_result",
          "data": {
            "text/plain": [
              "{'accuracy': 52.33350986363035,\n",
              " 'precision': 0.34307231637246244,\n",
              " 'recall': 0.5233350986363035,\n",
              " 'f1': 0.41444972055616336}"
            ]
          },
          "metadata": {},
          "execution_count": 71
        }
      ]
    },
    {
      "cell_type": "code",
      "source": [
        "train_df[\"line_number\"].value_counts()"
      ],
      "metadata": {
        "colab": {
          "base_uri": "https://localhost:8080/"
        },
        "id": "avXizFrcT9DM",
        "outputId": "a41e3dac-2245-4cf5-9b80-c991b3f798c9"
      },
      "execution_count": null,
      "outputs": [
        {
          "output_type": "execute_result",
          "data": {
            "text/plain": [
              "0     15000\n",
              "1     15000\n",
              "2     15000\n",
              "3     15000\n",
              "4     14992\n",
              "5     14949\n",
              "6     14758\n",
              "7     14279\n",
              "8     13346\n",
              "9     11981\n",
              "10    10041\n",
              "11     7892\n",
              "12     5853\n",
              "13     4152\n",
              "14     2835\n",
              "15     1861\n",
              "16     1188\n",
              "17      751\n",
              "18      462\n",
              "19      286\n",
              "20      162\n",
              "21      101\n",
              "22       66\n",
              "23       33\n",
              "24       22\n",
              "25       14\n",
              "26        7\n",
              "27        4\n",
              "28        3\n",
              "29        1\n",
              "30        1\n",
              "Name: line_number, dtype: int64"
            ]
          },
          "metadata": {},
          "execution_count": 72
        }
      ]
    },
    {
      "cell_type": "code",
      "source": [
        "train_line_number_one_hot = tf.one_hot(train_df[\"line_number\"].to_numpy(),depth=15)\n",
        "val_line_number_one_hot = tf.one_hot(val_df[\"line_number\"].to_numpy(),depth=15)\n",
        "test_line_number_one_hot = tf.one_hot(test_df[\"line_number\"].to_numpy(),depth=15)\n",
        "val_line_number_one_hot.shape, train_line_number_one_hot.shape,test_line_number_one_hot.shape\n",
        "len(test_df[\"line_number\"])"
      ],
      "metadata": {
        "colab": {
          "base_uri": "https://localhost:8080/"
        },
        "id": "8NBtD2SoT_7V",
        "outputId": "76183369-f65d-46ba-876c-3e1300b8990d"
      },
      "execution_count": null,
      "outputs": [
        {
          "output_type": "execute_result",
          "data": {
            "text/plain": [
              "30135"
            ]
          },
          "metadata": {},
          "execution_count": 108
        }
      ]
    },
    {
      "cell_type": "code",
      "source": [
        "train_df[\"Total_lines\"].value_counts()"
      ],
      "metadata": {
        "colab": {
          "base_uri": "https://localhost:8080/"
        },
        "id": "ciDKxr6aUbgG",
        "outputId": "02a4d612-9bdd-4078-ebb9-c0f334d3e4dc"
      },
      "execution_count": null,
      "outputs": [
        {
          "output_type": "execute_result",
          "data": {
            "text/plain": [
              "11    24468\n",
              "10    23639\n",
              "12    22113\n",
              "9     19400\n",
              "13    18438\n",
              "14    14610\n",
              "8     12285\n",
              "15    10768\n",
              "7      7464\n",
              "16     7429\n",
              "17     5202\n",
              "6      3353\n",
              "18     3344\n",
              "19     2480\n",
              "20     1281\n",
              "5      1146\n",
              "21      770\n",
              "22      759\n",
              "23      264\n",
              "4       215\n",
              "24      200\n",
              "25      182\n",
              "26       81\n",
              "28       58\n",
              "3        32\n",
              "30       31\n",
              "27       28\n",
              "Name: Total_lines, dtype: int64"
            ]
          },
          "metadata": {},
          "execution_count": 74
        }
      ]
    },
    {
      "cell_type": "code",
      "source": [
        "train_df.Total_lines.plot.hist()"
      ],
      "metadata": {
        "colab": {
          "base_uri": "https://localhost:8080/",
          "height": 448
        },
        "id": "-tEgNl91VHrJ",
        "outputId": "e7995b7c-7838-458e-81c6-d532027250fa"
      },
      "execution_count": null,
      "outputs": [
        {
          "output_type": "execute_result",
          "data": {
            "text/plain": [
              "<Axes: ylabel='Frequency'>"
            ]
          },
          "metadata": {},
          "execution_count": 75
        },
        {
          "output_type": "display_data",
          "data": {
            "text/plain": [
              "<Figure size 640x480 with 1 Axes>"
            ],
            "image/png": "[encoded data removed]"
          },
          "metadata": {}
        }
      ]
    },
    {
      "cell_type": "code",
      "source": [
        "np.percentile(train_df.Total_lines,98)"
      ],
      "metadata": {
        "colab": {
          "base_uri": "https://localhost:8080/"
        },
        "id": "dZ-dwWxaWAo2",
        "outputId": "1297e7e3-914e-4ec8-e43a-d32ec6a0321f"
      },
      "execution_count": null,
      "outputs": [
        {
          "output_type": "execute_result",
          "data": {
            "text/plain": [
              "20.0"
            ]
          },
          "metadata": {},
          "execution_count": 76
        }
      ]
    },
    {
      "cell_type": "code",
      "source": [
        "train_total_lines_one_hot = tf.one_hot(train_df[\"Total_lines\"].to_numpy(),depth=20)\n",
        "val_total_lines_one_hot = tf.one_hot(val_df[\"Total_lines\"].to_numpy(),depth=20)\n",
        "test_total_lines_one_hot = tf.one_hot(test_df[\"Total_lines\"].to_numpy(),depth=20)\n",
        "train_total_lines_one_hot.shape,val_total_lines_one_hot.shape,test_total_lines_one_hot.shape\n",
        "len(test_df[\"Total_lines\"])"
      ],
      "metadata": {
        "colab": {
          "base_uri": "https://localhost:8080/"
        },
        "id": "yFiVKg6QWR3c",
        "outputId": "8c7ca6fb-270a-488f-cdfd-83e10245c34b"
      },
      "execution_count": null,
      "outputs": [
        {
          "output_type": "execute_result",
          "data": {
            "text/plain": [
              "30135"
            ]
          },
          "metadata": {},
          "execution_count": 110
        }
      ]
    },
    {
      "cell_type": "code",
      "source": [
        "#1. Token Input model\n",
        "token_inputs = layers.Input(shape=[],dtype=tf.string)\n",
        "token_embeddings = tf_hub_embedding_layer(token_inputs)\n",
        "token_outputs = layers.Dense(128,activation=\"relu\")(token_embeddings)\n",
        "token_model = tf.keras.Model(token_inputs,token_outputs)\n",
        "\n",
        "#2. Character level model\n",
        "char_inputs = layers.Input(shape = (1,),dtype=tf.string)\n",
        "char_token = char_vectorizer(char_inputs)\n",
        "char_embeds = embedding_char(char_token)\n",
        "char_bi_lstm = layers.Bidirectional(layers.LSTM(24))(char_embeds)\n",
        "char_model = tf.keras.Model(char_inputs,char_bi_lstm)\n",
        "\n",
        "#3. Line number model\n",
        "line_inputs = layers.Input(shape = (15,),dtype=tf.int64)\n",
        "line_outputs = layers.Dense(32,activation=\"relu\")(line_inputs)\n",
        "line_number_model = tf.keras.Model(line_inputs,line_outputs)\n",
        "\n",
        "#4. Total Line model\n",
        "total_line_inputs = layers.Input(shape=(20,),dtype=tf.float32)\n",
        "total_line_outputs = layers.Dense(32,activation=\"relu\")(total_line_inputs)\n",
        "total_line_model = tf.keras.Model(total_line_inputs,total_line_outputs)\n",
        "\n",
        "\n",
        "\n",
        "#5. Combined embeddings\n",
        "combined_embeddings = layers.Concatenate()([token_model.output,char_model.output])\n",
        "combined_embedings_output = layers.Dense(256,activation=\"relu\")(combined_embeddings)\n",
        "z = layers.Dropout(0.5)(combined_embedings_output)\n",
        "\n",
        "#6. Combined positional embeddings\n",
        "tribid_embeddings = layers.Concatenate()([line_number_model.output,\n",
        "                                          total_line_model.output,\n",
        "                                          z])\n",
        "\n",
        "#7. Create output layer\n",
        "output_layer = layers.Dense(5,activation=\"softmax\")(tribid_embeddings)\n",
        "\n",
        "#8. Combine them into a model\n",
        "model_5 = tf.keras.Model(inputs = [line_number_model.input,\n",
        "                                   total_line_model.input,\n",
        "                                   token_model.input,\n",
        "                                   char_model.input],\n",
        "                         outputs = output_layer)"
      ],
      "metadata": {
        "id": "Vht-wiauXAYk"
      },
      "execution_count": null,
      "outputs": []
    },
    {
      "cell_type": "code",
      "source": [
        "from keras.utils import plot_model\n",
        "plot_model(model_5,show_shapes = True)"
      ],
      "metadata": {
        "colab": {
          "base_uri": "https://localhost:8080/",
          "height": 976
        },
        "id": "bFUu6WcohNBg",
        "outputId": "e115f06e-9686-4a2e-f607-467c928b78db"
      },
      "execution_count": null,
      "outputs": [
        {
          "output_type": "execute_result",
          "data": {
            "image/png": "[encoded data removed]",
            "text/plain": [
              "<IPython.core.display.Image object>"
            ]
          },
          "metadata": {},
          "execution_count": 79
        }
      ]
    },
    {
      "cell_type": "code",
      "source": [
        "model_5.compile(loss = tf.keras.losses.CategoricalCrossentropy(label_smoothing = 0.2),\n",
        "                optimizer = tf.keras.optimizers.SGD(),\n",
        "                metrics = [\"accuracy\"])"
      ],
      "metadata": {
        "id": "MHnmlWEXsFsN"
      },
      "execution_count": null,
      "outputs": []
    },
    {
      "cell_type": "code",
      "source": [
        "#Creating tribrid embedding dataset!!!\n",
        "train_token_char_data = tf.data.Dataset.from_tensor_slices((train_line_number_one_hot,\n",
        "                                                            train_total_lines_one_hot,\n",
        "                                                            train_sentences,\n",
        "                                                            train_chars))\n",
        "train_char_token_labels = tf.data.Dataset.from_tensor_slices((train_labels_one_hot))\n",
        "train_char_token_dataset = tf.data.Dataset.zip((train_token_char_data,train_char_token_labels)).batch(32).prefetch(tf.data.AUTOTUNE)"
      ],
      "metadata": {
        "id": "a9Fb2tjn5gxx"
      },
      "execution_count": null,
      "outputs": []
    },
    {
      "cell_type": "code",
      "source": [
        "val_token_char_data = tf.data.Dataset.from_tensor_slices((val_line_number_one_hot,\n",
        "                                                          val_total_lines_one_hot,\n",
        "                                                          val_sentences,\n",
        "                                                          val_chars))\n",
        "val_char_token_labels = tf.data.Dataset.from_tensor_slices((val_labels_one_hot))\n",
        "val_char_token_dataset = tf.data.Dataset.zip((val_token_char_data,val_char_token_labels)).batch(32).prefetch(tf.data.AUTOTUNE)\n",
        "\n",
        "\n",
        "test_token_char_data = tf.data.Dataset.from_tensor_slices((test_line_number_one_hot,\n",
        "                                                          test_total_lines_one_hot,\n",
        "                                                          test_sentences,\n",
        "                                                          test_chars))\n",
        "test_char_token_labels = tf.data.Dataset.from_tensor_slices((test_labels_one_hot))\n",
        "test_char_token_dataset = tf.data.Dataset.zip((test_token_char_data,test_char_token_labels)).batch(32).prefetch(tf.data.AUTOTUNE)\n",
        "\n",
        "\n"
      ],
      "metadata": {
        "id": "xCPOKfnX6-Qy"
      },
      "execution_count": null,
      "outputs": []
    },
    {
      "cell_type": "code",
      "source": [
        "history_5 = model_5.fit(train_char_token_dataset,\n",
        "                        epochs = 5,\n",
        "                        steps_per_epoch = int(0.1 * len(train_char_token_dataset)),\n",
        "                        validation_data = val_char_token_dataset,\n",
        "                        validation_steps = int(0.1*len(val_char_token_dataset)))"
      ],
      "metadata": {
        "colab": {
          "base_uri": "https://localhost:8080/"
        },
        "id": "2LCFEDHjk6GR",
        "outputId": "f269560b-d3a6-4863-c322-10167e0469d8"
      },
      "execution_count": null,
      "outputs": [
        {
          "output_type": "stream",
          "name": "stdout",
          "text": [
            "Epoch 1/5\n",
            "562/562 [==============================] - 19s 35ms/step - loss: 1.0272 - accuracy: 0.7640 - val_loss: 1.0086 - val_accuracy: 0.7769\n",
            "Epoch 2/5\n",
            "562/562 [==============================] - 19s 34ms/step - loss: 1.0144 - accuracy: 0.7739 - val_loss: 1.0044 - val_accuracy: 0.7822\n",
            "Epoch 3/5\n",
            "562/562 [==============================] - 20s 36ms/step - loss: 1.0133 - accuracy: 0.7747 - val_loss: 1.0022 - val_accuracy: 0.7816\n",
            "Epoch 4/5\n",
            "562/562 [==============================] - 20s 36ms/step - loss: 1.0125 - accuracy: 0.7807 - val_loss: 0.9993 - val_accuracy: 0.7846\n",
            "Epoch 5/5\n",
            "562/562 [==============================] - 20s 35ms/step - loss: 1.0121 - accuracy: 0.7797 - val_loss: 0.9969 - val_accuracy: 0.7859\n"
          ]
        }
      ]
    },
    {
      "cell_type": "code",
      "source": [
        "model_5.evaluate(val_char_token_dataset)\n"
      ],
      "metadata": {
        "colab": {
          "base_uri": "https://localhost:8080/"
        },
        "id": "nQ2YrtfLp_p7",
        "outputId": "1bd1bf30-1cee-4738-8ed8-55b864fe03ea"
      },
      "execution_count": null,
      "outputs": [
        {
          "output_type": "stream",
          "name": "stdout",
          "text": [
            "945/945 [==============================] - 18s 19ms/step - loss: 0.9974 - accuracy: 0.7889\n"
          ]
        },
        {
          "output_type": "execute_result",
          "data": {
            "text/plain": [
              "[0.997391939163208, 0.7888918519020081]"
            ]
          },
          "metadata": {},
          "execution_count": 128
        }
      ]
    },
    {
      "cell_type": "code",
      "source": [
        "model5_pred_probs = model_5.predict(val_char_token_dataset)\n",
        "model5_pred_probs = tf.argmax(model5_pred_probs,axis = 1)\n",
        "model5_pred_probs"
      ],
      "metadata": {
        "colab": {
          "base_uri": "https://localhost:8080/"
        },
        "id": "haKOrKp1reKV",
        "outputId": "8ebac4a3-21eb-40d3-9754-75d49f378564"
      },
      "execution_count": null,
      "outputs": [
        {
          "output_type": "stream",
          "name": "stdout",
          "text": [
            "945/945 [==============================] - 33s 35ms/step\n"
          ]
        },
        {
          "output_type": "execute_result",
          "data": {
            "text/plain": [
              "<tf.Tensor: shape=(30212,), dtype=int64, numpy=array([0, 0, 0, ..., 4, 4, 1])>"
            ]
          },
          "metadata": {},
          "execution_count": 129
        }
      ]
    },
    {
      "cell_type": "code",
      "source": [
        "calc_results(y_true = val_label_encoded,\n",
        "             y_preds = model5_pred_probs)"
      ],
      "metadata": {
        "colab": {
          "base_uri": "https://localhost:8080/"
        },
        "id": "9Z_OaDYVrv-S",
        "outputId": "13a010ab-4290-4ff4-e4cf-a4a025a7f44f"
      },
      "execution_count": null,
      "outputs": [
        {
          "output_type": "execute_result",
          "data": {
            "text/plain": [
              "{'accuracy': 78.88918310605058,\n",
              " 'precision': 0.7882695816804781,\n",
              " 'recall': 0.7888918310605058,\n",
              " 'f1': 0.7830049193292681}"
            ]
          },
          "metadata": {},
          "execution_count": 131
        }
      ]
    },
    {
      "cell_type": "code",
      "source": [],
      "metadata": {
        "id": "sD0UkvfMsw0y"
      },
      "execution_count": null,
      "outputs": []
    }
  ]
}